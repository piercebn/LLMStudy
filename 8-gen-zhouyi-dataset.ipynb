{
 "cells": [
  {
   "cell_type": "markdown",
   "id": "38dde73f-01ab-42e1-9e6e-4ba5f18e0623",
   "metadata": {},
   "source": [
    "# 构造微调训练数据集\n",
    "\n",
    "借助 ChatGPT 和 GPT API 我们可以实现自动化批量构造训练数据集。\n",
    "\n",
    "下面我们以中国古典哲学数据集为例，展示了自动构造训练集的主要流程：\n",
    "\n",
    "- 使用 LangChain 构造训练数据样例\n",
    "    - 基于 ChatGPT 设计 `System Role` 提示词\n",
    "    - 使用 `OpenAI GPT-3.5-Turbo-1106` 生成基础数据\n",
    "    - 解析 OpenAI GPT 生成的训练数据\n",
    "    - 持久化存储`dataset.csv`训练数据集文件\n",
    "    - 使用 ChatGPT 实现训练数据多样化\n",
    "- 自动化批量生成训练数据集\n",
    "    - 整理收集原始数据`raw_data.txt`\n",
    "    - 自动解析原始数据样例 `raw_data_content[]`\n",
    "    - 设计 `gen_data` 训练数据生成器函数\n",
    "    - 设计训练数据生成流水线\n",
    "\n",
    "最佳实践参考：\n",
    "\n",
    "- 使用 GPT-3.5 生成基础数据：https://platform.openai.com/playground/p/2c7XNPgo6Y2iDxILiWfD3iPu?model=gpt-3.5-turbo-1106&mode=chat\n",
    "- 使用 ChatGPT 生成数据处理代码和相关文本整理：https://chat.openai.com/share/cdfd2d1d-a75e-4cee-be49-539c010ca1b1\n",
    "- GPT API 价格: https://openai.com/pricing"
   ]
  },
  {
   "cell_type": "markdown",
   "id": "18380fa5-6b34-44eb-ba8c-f4fc7ff41e9c",
   "metadata": {},
   "source": [
    "## 使用 OpenAI \bSDk 构造训练数据"
   ]
  },
  {
   "cell_type": "code",
   "execution_count": 4,
   "id": "d3487f3f-fd61-45a8-a9d0-28a8ae5601ce",
   "metadata": {},
   "outputs": [
    {
     "name": "stdout",
     "output_type": "stream",
     "text": [
      "Collecting openai==1.3.6\n",
      "  Downloading openai-1.3.6-py3-none-any.whl.metadata (17 kB)\n",
      "Collecting anyio<4,>=3.5.0 (from openai==1.3.6)\n",
      "  Downloading anyio-3.7.1-py3-none-any.whl.metadata (4.7 kB)\n",
      "Collecting distro<2,>=1.7.0 (from openai==1.3.6)\n",
      "  Downloading distro-1.9.0-py3-none-any.whl.metadata (6.8 kB)\n",
      "Requirement already satisfied: httpx<1,>=0.23.0 in /root/miniconda3/envs/peft/lib/python3.11/site-packages (from openai==1.3.6) (0.27.0)\n",
      "Requirement already satisfied: pydantic<3,>=1.9.0 in /root/miniconda3/envs/peft/lib/python3.11/site-packages (from openai==1.3.6) (2.6.4)\n",
      "Requirement already satisfied: sniffio in /root/miniconda3/envs/peft/lib/python3.11/site-packages (from openai==1.3.6) (1.3.1)\n",
      "Requirement already satisfied: tqdm>4 in /root/miniconda3/envs/peft/lib/python3.11/site-packages (from openai==1.3.6) (4.66.2)\n",
      "Requirement already satisfied: typing-extensions<5,>=4.5 in /root/miniconda3/envs/peft/lib/python3.11/site-packages (from openai==1.3.6) (4.10.0)\n",
      "Requirement already satisfied: idna>=2.8 in /root/miniconda3/envs/peft/lib/python3.11/site-packages (from anyio<4,>=3.5.0->openai==1.3.6) (3.6)\n",
      "Requirement already satisfied: certifi in /root/miniconda3/envs/peft/lib/python3.11/site-packages (from httpx<1,>=0.23.0->openai==1.3.6) (2024.2.2)\n",
      "Requirement already satisfied: httpcore==1.* in /root/miniconda3/envs/peft/lib/python3.11/site-packages (from httpx<1,>=0.23.0->openai==1.3.6) (1.0.4)\n",
      "Requirement already satisfied: h11<0.15,>=0.13 in /root/miniconda3/envs/peft/lib/python3.11/site-packages (from httpcore==1.*->httpx<1,>=0.23.0->openai==1.3.6) (0.14.0)\n",
      "Requirement already satisfied: annotated-types>=0.4.0 in /root/miniconda3/envs/peft/lib/python3.11/site-packages (from pydantic<3,>=1.9.0->openai==1.3.6) (0.6.0)\n",
      "Requirement already satisfied: pydantic-core==2.16.3 in /root/miniconda3/envs/peft/lib/python3.11/site-packages (from pydantic<3,>=1.9.0->openai==1.3.6) (2.16.3)\n",
      "Downloading openai-1.3.6-py3-none-any.whl (220 kB)\n",
      "\u001b[2K   \u001b[90m━━━━━━━━━━━━━━━━━━━━━━━━━━━━━━━━━━━━━━━━\u001b[0m \u001b[32m220.9/220.9 kB\u001b[0m \u001b[31m17.4 MB/s\u001b[0m eta \u001b[36m0:00:00\u001b[0m\n",
      "\u001b[?25hDownloading anyio-3.7.1-py3-none-any.whl (80 kB)\n",
      "\u001b[2K   \u001b[90m━━━━━━━━━━━━━━━━━━━━━━━━━━━━━━━━━━━━━━━━\u001b[0m \u001b[32m80.9/80.9 kB\u001b[0m \u001b[31m12.5 MB/s\u001b[0m eta \u001b[36m0:00:00\u001b[0m\n",
      "\u001b[?25hDownloading distro-1.9.0-py3-none-any.whl (20 kB)\n",
      "Installing collected packages: distro, anyio, openai\n",
      "  Attempting uninstall: anyio\n",
      "    Found existing installation: anyio 4.3.0\n",
      "    Uninstalling anyio-4.3.0:\n",
      "      Successfully uninstalled anyio-4.3.0\n",
      "Successfully installed anyio-3.7.1 distro-1.9.0 openai-1.3.6\n",
      "\u001b[33mWARNING: Running pip as the 'root' user can result in broken permissions and conflicting behaviour with the system package manager. It is recommended to use a virtual environment instead: https://pip.pypa.io/warnings/venv\u001b[0m\u001b[33m\n",
      "\u001b[0m"
     ]
    }
   ],
   "source": [
    "!pip install openai==1.3.6"
   ]
  },
  {
   "cell_type": "code",
   "execution_count": 2,
   "id": "760f59b3-e056-4ccb-8cca-3325af1b022e",
   "metadata": {},
   "outputs": [],
   "source": [
    "import os\n",
    "os.environ[\"OPENAI_API_TYPE\"]=''\n",
    "os.environ[\"OPENAI_API_VERSION\"]=''\n",
    "os.environ[\"OPENAI_API_BASE\"]=''\n",
    "os.environ[\"OPENAI_API_KEY\"]=''\n",
    "\n",
    "deployment = \"\"\n",
    "model = \"gpt-35-turbo\""
   ]
  },
  {
   "cell_type": "code",
   "execution_count": 6,
   "id": "f84be8c1-128b-4763-aae6-b143de572796",
   "metadata": {},
   "outputs": [],
   "source": [
    "# from openai import OpenAI\n",
    "# client = OpenAI()\n",
    "\n",
    "import os\n",
    "from openai import AzureOpenAI\n",
    "    \n",
    "client = AzureOpenAI(\n",
    "    api_key=os.getenv(\"OPENAI_API_KEY\"),  \n",
    "    api_version=os.getenv(\"OPENAI_API_VERSION\"),\n",
    "    azure_endpoint = os.getenv(\"OPENAI_API_BASE\")\n",
    "    )"
   ]
  },
  {
   "cell_type": "code",
   "execution_count": 12,
   "id": "d0c8f9e7-ef2c-400d-b194-a31806f0fa91",
   "metadata": {},
   "outputs": [],
   "source": [
    "response = client.chat.completions.create(\n",
    "  model=deployment,\n",
    "  messages=[\n",
    "    {\n",
    "      \"role\": \"system\",\n",
    "      \"content\": \"你是中国古典哲学大师，尤其擅长周易的哲学解读。\\n\\n接下来，你收到的都是关于周易卦象的解释，你需要整理润色，并生成用于大模型训练的内容和格式。\\n\\n示例输入：\\n\\n师卦，此卦是异卦相叠，下卦为坎，上卦为坤。“师”指军队。坎为水、为险；坤为地、为顺，喻寓兵于农。兵凶战危，用兵乃圣人不得已而为之，但它可以顺利无阻碍地解决矛盾，因为顺乎形势，师出有名，故能化凶为吉。占得此卦，对于军事上率师出征非常有利，必无灾祸。师卦是天马出群之卦，以寡伏众之象。\\n师卦位于讼卦之后，《序卦》之中这样解释道：“讼必有众起，故受之以师。师者，众也。”争讼的人越来越多，以致形成了军队。\\n\\n期待结果：\\n\\ncontent:\\\"师卦\\\"\\nsummary:\\\"在周易中，师卦是一个极具深意的卦象，它由两个异卦相叠组成：下卦坎（水）和上卦坤（地）。这一卦象代表“师”，即军队，寓意着兵力和农力的结合。在这里，坎卦象征着水和险难，而坤卦象征着地和顺从，暗示着通过将军事力量安置于民间，可以在必要时顺利调动。\\n\\n师卦的核心哲学是：虽然兵力代表着危险和战争，但其使用应当是圣人不得已而为之的最后手段。在正确的情况下，军事力量可以顺应形势，将危险转化为吉祥。因此，在军事策略上，此卦象征着出征将会顺利，无灾祸。\\n\\n师卦紧随讼卦（争讼卦），在《序卦》中解释为“讼必有众起，故受之以师”。这意味着争端激化至众多人群的参与，形成了类似军队的集体力量。\\\"\"\n",
    "    },\n",
    "    {\n",
    "      \"role\": \"user\",\n",
    "      \"content\": \"蒙卦是教育启蒙的智慧，艮为山，坎为泉，山下出泉。泉水始流出山，则必将渐汇成江河,正如蒙稚渐启，又山下有险，因为有险停止不前，所以蒙昧不明。事物发展的初期阶段，必然蒙昧，所以教育是当务之急，养学生纯正无邪的品质，是治蒙之道。\\n蒙卦，这个卦是异卦相叠，下卦为坎，上卦为艮。艮是山的形象，喻止；坎是水的形象，喻险。卦形为山下有险，仍不停止前进，是为蒙昧，故称蒙卦。但因把握时机，行动切合时宜;因此，具有启蒙和通达的卦象。\\n《蒙》卦是《屯》卦这个始生卦之后的第二卦。《序卦》中说：“物生必蒙，故受之以蒙。蒙者，蒙也，特之稚也。”物之幼稚阶段，有如蒙昧未开的状态，在人则是指童蒙。\\n《象》中这样解释蒙卦：山下出泉，蒙；君子以果行育德。\"\n",
    "    },\n",
    "    {\n",
    "      \"role\": \"assistant\",\n",
    "      \"content\": \"content:\\\"蒙卦\\\"\\nsummary:\\\"在周易中，蒙卦象征着教育启蒙和智慧的初期阶段，由两个异卦相叠组成：下卦坎（水）和上卦艮（山）。坎象征水，艮象征山，代表了山下有水源，水流出山。这预示着在事物发展的起初阶段，人们会陷入蒙昧状态，因此教育成为当务之急。只有培养纯正无邪的品质，才能走上通达之路，如同泉水汇成江河。\\n\\n蒙卦的核心哲学是：事物发展的初期阶段必然处于蒙昧状态，但如果能把握时机，行动切合时宜，就能启蒙通达。蒙卦紧随始生卦《屯》之后，《序卦》中解释道：“物生必蒙，故受之以蒙。蒙者，蒙也，特之稚也。”这说明物在幼稚阶段都会经历蒙昧状态，找它蒙即是稚嫩。\\n\\n《象》中解释说：山下出泉，蒙；君子以果行育德，意味着像泉水从山下流出一样，启蒙教育有助于培育美德。\\\"\"\n",
    "    },\n",
    "    {\n",
    "      \"role\": \"user\",\n",
    "      \"content\": \"需卦，本卦是异卦相叠，上卦为坎，下卦为乾。乾卦象征天空辽阔，坎卦象征乌云密布。雨水之于传统农业社会而言，是最大的需求，因此用这个意象来表现。古人引申为雨将下，万物皆待，所以叫需。\\n需，古体字结构是“雨上天下”，从雨而声。如苍天下雨，滋养万物及人。从人的角度看，天下雨，则不易出行耕作，因此在家喝酒吃肉、静待天时。所以，这一卦的基本象征就是等待、不进，还有饮食之义。\\n \\n需卦位于蒙卦之后，《序卦》之中这样解释道：“物稚不可不养也，故受之以需。需者，饮食之道也。”有所需要，也是有所等待。\\n《象》曰：云上于天，需;君子以饮食宴乐。\\n《象》中这段话的意思是说：需卦的卦象是乾(天)下坎(水)上，为水在天上之表象。水汽聚集天上成为云层，密云満天，但还没有下雨，需要等待;君子在这个时候需要吃喝，饮酒作乐，即在等待的时候积蓄力量。\\n需卦象征等待，启示人们守正待机的道理，属于中上卦。《象》这样评断此卦：明珠土埋日久深，无光无亮到如今，忽然大风吹土去，自然显露有重新。\\n\"\n",
    "    }\n",
    "  ],\n",
    "  temperature=1,\n",
    "  max_tokens=4095,\n",
    "  top_p=1,\n",
    "  frequency_penalty=0,\n",
    "  presence_penalty=0\n",
    ")"
   ]
  },
  {
   "cell_type": "code",
   "execution_count": 13,
   "id": "2e0d4a01-ba68-47ad-b32e-ca3ed609c02d",
   "metadata": {},
   "outputs": [
    {
     "name": "stdout",
     "output_type": "stream",
     "text": [
      "content:\"需卦\"\n",
      "summary:\"在周易中，需卦是一个由两个异卦相叠组成的卦象：上卦为坎（水），下卦为乾（天）。乾卦象征着天空广阔，坎卦象征着乌云密布，寓意着等待雨水的降临。因此，需卦代表着等待、不进和饮食。从古人对待雨水的态度来看，雨水对传统农业社会至关重要，因此等待雨水的同时也等待丰收的到来。\n",
      "\n",
      "需卦的核心哲学是：在某些时候，需要等待才能获得更好的结果。需卦位于蒙卦之后，《序卦》中解释道：“物稚不可不养也，故受之以需。需者，饮食之道也。”这意味着在某些情况下，需要等待和养育，才能取得成功。\n",
      "\n",
      "《象》中解释道：云上于天，需；君子以饮食宴乐。卦象中的水汽聚集成为云层，但尚未下雨，寓意着等待。君子在这个时候需要享受饮食和欢乐，即在等待的时候积蓄力量。需卦启示人们守正待机的道理。在《象》中，需卦被评价为明珠土埋日久深，无光无亮到如今，忽然大风吹土去，自然显露，代表等待过后，事物会迎来新的转机。\"\n",
      "ChatCompletion(id='chatcmpl-9EHzJFV3vKb39RCAJdPAb4uefODMn', choices=[Choice(finish_reason='stop', index=0, message=ChatCompletionMessage(content='content:\"需卦\"\\nsummary:\"在周易中，需卦是一个由两个异卦相叠组成的卦象：上卦为坎（水），下卦为乾（天）。乾卦象征着天空广阔，坎卦象征着乌云密布，寓意着等待雨水的降临。因此，需卦代表着等待、不进和饮食。从古人对待雨水的态度来看，雨水对传统农业社会至关重要，因此等待雨水的同时也等待丰收的到来。\\n\\n需卦的核心哲学是：在某些时候，需要等待才能获得更好的结果。需卦位于蒙卦之后，《序卦》中解释道：“物稚不可不养也，故受之以需。需者，饮食之道也。”这意味着在某些情况下，需要等待和养育，才能取得成功。\\n\\n《象》中解释道：云上于天，需；君子以饮食宴乐。卦象中的水汽聚集成为云层，但尚未下雨，寓意着等待。君子在这个时候需要享受饮食和欢乐，即在等待的时候积蓄力量。需卦启示人们守正待机的道理。在《象》中，需卦被评价为明珠土埋日久深，无光无亮到如今，忽然大风吹土去，自然显露，代表等待过后，事物会迎来新的转机。\"', role='assistant', function_call=None, tool_calls=None))], created=1713192765, model='gpt-35-turbo', object='chat.completion', system_fingerprint=None, usage=CompletionUsage(completion_tokens=479, prompt_tokens=2085, total_tokens=2564))\n"
     ]
    }
   ],
   "source": [
    "print(response.choices[0].message.content)\n",
    "print(response)"
   ]
  },
  {
   "cell_type": "code",
   "execution_count": 15,
   "id": "a3ae9537-fb6b-4c5d-8777-839aef3eb2d2",
   "metadata": {},
   "outputs": [
    {
     "name": "stdout",
     "output_type": "stream",
     "text": [
      "Collecting langchain\n",
      "  Downloading langchain-0.1.16-py3-none-any.whl.metadata (13 kB)\n",
      "Requirement already satisfied: PyYAML>=5.3 in /root/miniconda3/envs/peft/lib/python3.11/site-packages (from langchain) (6.0.1)\n",
      "Collecting SQLAlchemy<3,>=1.4 (from langchain)\n",
      "  Downloading SQLAlchemy-2.0.29-cp311-cp311-manylinux_2_17_x86_64.manylinux2014_x86_64.whl.metadata (9.6 kB)\n",
      "Requirement already satisfied: aiohttp<4.0.0,>=3.8.3 in /root/miniconda3/envs/peft/lib/python3.11/site-packages (from langchain) (3.9.3)\n",
      "Collecting dataclasses-json<0.7,>=0.5.7 (from langchain)\n",
      "  Downloading dataclasses_json-0.6.4-py3-none-any.whl.metadata (25 kB)\n",
      "Collecting jsonpatch<2.0,>=1.33 (from langchain)\n",
      "  Downloading jsonpatch-1.33-py2.py3-none-any.whl.metadata (3.0 kB)\n",
      "Collecting langchain-community<0.1,>=0.0.32 (from langchain)\n",
      "  Downloading langchain_community-0.0.32-py3-none-any.whl.metadata (8.5 kB)\n",
      "Collecting langchain-core<0.2.0,>=0.1.42 (from langchain)\n",
      "  Downloading langchain_core-0.1.42-py3-none-any.whl.metadata (5.9 kB)\n",
      "Collecting langchain-text-splitters<0.1,>=0.0.1 (from langchain)\n",
      "  Downloading langchain_text_splitters-0.0.1-py3-none-any.whl.metadata (2.0 kB)\n",
      "Collecting langsmith<0.2.0,>=0.1.17 (from langchain)\n",
      "  Downloading langsmith-0.1.47-py3-none-any.whl.metadata (13 kB)\n",
      "Requirement already satisfied: numpy<2,>=1 in /root/miniconda3/envs/peft/lib/python3.11/site-packages (from langchain) (1.26.4)\n",
      "Requirement already satisfied: pydantic<3,>=1 in /root/miniconda3/envs/peft/lib/python3.11/site-packages (from langchain) (2.6.4)\n",
      "Requirement already satisfied: requests<3,>=2 in /root/miniconda3/envs/peft/lib/python3.11/site-packages (from langchain) (2.31.0)\n",
      "Collecting tenacity<9.0.0,>=8.1.0 (from langchain)\n",
      "  Downloading tenacity-8.2.3-py3-none-any.whl.metadata (1.0 kB)\n",
      "Requirement already satisfied: aiosignal>=1.1.2 in /root/miniconda3/envs/peft/lib/python3.11/site-packages (from aiohttp<4.0.0,>=3.8.3->langchain) (1.3.1)\n",
      "Requirement already satisfied: attrs>=17.3.0 in /root/miniconda3/envs/peft/lib/python3.11/site-packages (from aiohttp<4.0.0,>=3.8.3->langchain) (23.2.0)\n",
      "Requirement already satisfied: frozenlist>=1.1.1 in /root/miniconda3/envs/peft/lib/python3.11/site-packages (from aiohttp<4.0.0,>=3.8.3->langchain) (1.4.1)\n",
      "Requirement already satisfied: multidict<7.0,>=4.5 in /root/miniconda3/envs/peft/lib/python3.11/site-packages (from aiohttp<4.0.0,>=3.8.3->langchain) (6.0.5)\n",
      "Requirement already satisfied: yarl<2.0,>=1.0 in /root/miniconda3/envs/peft/lib/python3.11/site-packages (from aiohttp<4.0.0,>=3.8.3->langchain) (1.9.4)\n",
      "Collecting marshmallow<4.0.0,>=3.18.0 (from dataclasses-json<0.7,>=0.5.7->langchain)\n",
      "  Downloading marshmallow-3.21.1-py3-none-any.whl.metadata (7.2 kB)\n",
      "Collecting typing-inspect<1,>=0.4.0 (from dataclasses-json<0.7,>=0.5.7->langchain)\n",
      "  Downloading typing_inspect-0.9.0-py3-none-any.whl.metadata (1.5 kB)\n",
      "Requirement already satisfied: jsonpointer>=1.9 in /root/miniconda3/envs/peft/lib/python3.11/site-packages (from jsonpatch<2.0,>=1.33->langchain) (2.4)\n",
      "Collecting packaging<24.0,>=23.2 (from langchain-core<0.2.0,>=0.1.42->langchain)\n",
      "  Downloading packaging-23.2-py3-none-any.whl.metadata (3.2 kB)\n",
      "Requirement already satisfied: orjson<4.0.0,>=3.9.14 in /root/miniconda3/envs/peft/lib/python3.11/site-packages (from langsmith<0.2.0,>=0.1.17->langchain) (3.9.15)\n",
      "Requirement already satisfied: annotated-types>=0.4.0 in /root/miniconda3/envs/peft/lib/python3.11/site-packages (from pydantic<3,>=1->langchain) (0.6.0)\n",
      "Requirement already satisfied: pydantic-core==2.16.3 in /root/miniconda3/envs/peft/lib/python3.11/site-packages (from pydantic<3,>=1->langchain) (2.16.3)\n",
      "Requirement already satisfied: typing-extensions>=4.6.1 in /root/miniconda3/envs/peft/lib/python3.11/site-packages (from pydantic<3,>=1->langchain) (4.10.0)\n",
      "Requirement already satisfied: charset-normalizer<4,>=2 in /root/miniconda3/envs/peft/lib/python3.11/site-packages (from requests<3,>=2->langchain) (3.3.2)\n",
      "Requirement already satisfied: idna<4,>=2.5 in /root/miniconda3/envs/peft/lib/python3.11/site-packages (from requests<3,>=2->langchain) (3.6)\n",
      "Requirement already satisfied: urllib3<3,>=1.21.1 in /root/miniconda3/envs/peft/lib/python3.11/site-packages (from requests<3,>=2->langchain) (2.2.1)\n",
      "Requirement already satisfied: certifi>=2017.4.17 in /root/miniconda3/envs/peft/lib/python3.11/site-packages (from requests<3,>=2->langchain) (2024.2.2)\n",
      "Collecting greenlet!=0.4.17 (from SQLAlchemy<3,>=1.4->langchain)\n",
      "  Downloading greenlet-3.0.3-cp311-cp311-manylinux_2_24_x86_64.manylinux_2_28_x86_64.whl.metadata (3.8 kB)\n",
      "Collecting mypy-extensions>=0.3.0 (from typing-inspect<1,>=0.4.0->dataclasses-json<0.7,>=0.5.7->langchain)\n",
      "  Downloading mypy_extensions-1.0.0-py3-none-any.whl.metadata (1.1 kB)\n",
      "Downloading langchain-0.1.16-py3-none-any.whl (817 kB)\n",
      "\u001b[2K   \u001b[90m━━━━━━━━━━━━━━━━━━━━━━━━━━━━━━━━━━━━━━━━\u001b[0m \u001b[32m817.7/817.7 kB\u001b[0m \u001b[31m62.9 MB/s\u001b[0m eta \u001b[36m0:00:00\u001b[0m\n",
      "\u001b[?25hDownloading dataclasses_json-0.6.4-py3-none-any.whl (28 kB)\n",
      "Downloading jsonpatch-1.33-py2.py3-none-any.whl (12 kB)\n",
      "Downloading langchain_community-0.0.32-py3-none-any.whl (1.9 MB)\n",
      "\u001b[2K   \u001b[90m━━━━━━━━━━━━━━━━━━━━━━━━━━━━━━━━━━━━━━━━\u001b[0m \u001b[32m1.9/1.9 MB\u001b[0m \u001b[31m106.3 MB/s\u001b[0m eta \u001b[36m0:00:00\u001b[0m\n",
      "\u001b[?25hDownloading langchain_core-0.1.42-py3-none-any.whl (287 kB)\n",
      "\u001b[2K   \u001b[90m━━━━━━━━━━━━━━━━━━━━━━━━━━━━━━━━━━━━━━━━\u001b[0m \u001b[32m287.5/287.5 kB\u001b[0m \u001b[31m41.0 MB/s\u001b[0m eta \u001b[36m0:00:00\u001b[0m\n",
      "\u001b[?25hDownloading langchain_text_splitters-0.0.1-py3-none-any.whl (21 kB)\n",
      "Downloading langsmith-0.1.47-py3-none-any.whl (113 kB)\n",
      "\u001b[2K   \u001b[90m━━━━━━━━━━━━━━━━━━━━━━━━━━━━━━━━━━━━━━━━\u001b[0m \u001b[32m113.0/113.0 kB\u001b[0m \u001b[31m10.9 MB/s\u001b[0m eta \u001b[36m0:00:00\u001b[0m\n",
      "\u001b[?25hDownloading SQLAlchemy-2.0.29-cp311-cp311-manylinux_2_17_x86_64.manylinux2014_x86_64.whl (3.2 MB)\n",
      "\u001b[2K   \u001b[90m━━━━━━━━━━━━━━━━━━━━━━━━━━━━━━━━━━━━━━━━\u001b[0m \u001b[32m3.2/3.2 MB\u001b[0m \u001b[31m131.1 MB/s\u001b[0m eta \u001b[36m0:00:00\u001b[0m\n",
      "\u001b[?25hDownloading tenacity-8.2.3-py3-none-any.whl (24 kB)\n",
      "Downloading greenlet-3.0.3-cp311-cp311-manylinux_2_24_x86_64.manylinux_2_28_x86_64.whl (620 kB)\n",
      "\u001b[2K   \u001b[90m━━━━━━━━━━━━━━━━━━━━━━━━━━━━━━━━━━━━━━━━\u001b[0m \u001b[32m620.0/620.0 kB\u001b[0m \u001b[31m65.2 MB/s\u001b[0m eta \u001b[36m0:00:00\u001b[0m\n",
      "\u001b[?25hDownloading marshmallow-3.21.1-py3-none-any.whl (49 kB)\n",
      "\u001b[2K   \u001b[90m━━━━━━━━━━━━━━━━━━━━━━━━━━━━━━━━━━━━━━━━\u001b[0m \u001b[32m49.4/49.4 kB\u001b[0m \u001b[31m4.2 MB/s\u001b[0m eta \u001b[36m0:00:00\u001b[0m\n",
      "\u001b[?25hDownloading packaging-23.2-py3-none-any.whl (53 kB)\n",
      "\u001b[2K   \u001b[90m━━━━━━━━━━━━━━━━━━━━━━━━━━━━━━━━━━━━━━━━\u001b[0m \u001b[32m53.0/53.0 kB\u001b[0m \u001b[31m8.4 MB/s\u001b[0m eta \u001b[36m0:00:00\u001b[0m\n",
      "\u001b[?25hDownloading typing_inspect-0.9.0-py3-none-any.whl (8.8 kB)\n",
      "Downloading mypy_extensions-1.0.0-py3-none-any.whl (4.7 kB)\n",
      "Installing collected packages: tenacity, packaging, mypy-extensions, jsonpatch, greenlet, typing-inspect, SQLAlchemy, marshmallow, langsmith, dataclasses-json, langchain-core, langchain-text-splitters, langchain-community, langchain\n",
      "  Attempting uninstall: packaging\n",
      "    Found existing installation: packaging 24.0\n",
      "    Uninstalling packaging-24.0:\n",
      "      Successfully uninstalled packaging-24.0\n",
      "Successfully installed SQLAlchemy-2.0.29 dataclasses-json-0.6.4 greenlet-3.0.3 jsonpatch-1.33 langchain-0.1.16 langchain-community-0.0.32 langchain-core-0.1.42 langchain-text-splitters-0.0.1 langsmith-0.1.47 marshmallow-3.21.1 mypy-extensions-1.0.0 packaging-23.2 tenacity-8.2.3 typing-inspect-0.9.0\n",
      "\u001b[33mWARNING: Running pip as the 'root' user can result in broken permissions and conflicting behaviour with the system package manager. It is recommended to use a virtual environment instead: https://pip.pypa.io/warnings/venv\u001b[0m\u001b[33m\n",
      "\u001b[0m"
     ]
    }
   ],
   "source": [
    "!pip install langchain"
   ]
  },
  {
   "cell_type": "code",
   "execution_count": 16,
   "id": "f3224fa1-16bb-4526-9f3d-1d731376f1f3",
   "metadata": {},
   "outputs": [
    {
     "name": "stderr",
     "output_type": "stream",
     "text": [
      "/root/miniconda3/envs/peft/lib/python3.11/site-packages/langchain_core/_api/deprecation.py:117: LangChainDeprecationWarning: The class `langchain_community.chat_models.azure_openai.AzureChatOpenAI` was deprecated in langchain-community 0.0.10 and will be removed in 0.2.0. An updated version of the class exists in the langchain-openai package and should be used instead. To use it run `pip install -U langchain-openai` and import as `from langchain_openai import AzureChatOpenAI`.\n",
      "  warn_deprecated(\n",
      "WARNING! top_p is not default parameter.\n",
      "                    top_p was transferred to model_kwargs.\n",
      "                    Please confirm that top_p is what you intended.\n",
      "WARNING! frequency_penalty is not default parameter.\n",
      "                    frequency_penalty was transferred to model_kwargs.\n",
      "                    Please confirm that frequency_penalty is what you intended.\n",
      "WARNING! presence_penalty is not default parameter.\n",
      "                    presence_penalty was transferred to model_kwargs.\n",
      "                    Please confirm that presence_penalty is what you intended.\n",
      "/root/miniconda3/envs/peft/lib/python3.11/site-packages/langchain_community/chat_models/azure_openai.py:167: UserWarning: As of openai>=1.0.0, Azure endpoints should be specified via the `azure_endpoint` param not `openai_api_base` (or alias `base_url`). Updating `openai_api_base` from https://yicheapp-service.openai.azure.com/ to https://yicheapp-service.openai.azure.com/openai.\n",
      "  warnings.warn(\n"
     ]
    }
   ],
   "source": [
    "# from langchain.chat_models import ChatOpenAI\n",
    "from langchain.chat_models import AzureChatOpenAI\n",
    "from langchain.schema import HumanMessage, SystemMessage\n",
    "from langchain.prompts.chat import (\n",
    "    ChatPromptTemplate,\n",
    "    HumanMessagePromptTemplate,\n",
    "    SystemMessagePromptTemplate,\n",
    ")\n",
    "\n",
    "chat = AzureChatOpenAI(model=deployment,\n",
    "                  temperature=1,\n",
    "                  max_tokens=4095,\n",
    "                  top_p=1,\n",
    "                  frequency_penalty=0,\n",
    "                  presence_penalty=0)"
   ]
  },
  {
   "cell_type": "markdown",
   "id": "5cad327e-e725-4258-a0d4-5937929074ca",
   "metadata": {},
   "source": [
    "## 使用 LangChain 构造训练数据"
   ]
  },
  {
   "cell_type": "code",
   "execution_count": 17,
   "id": "43a07901-59b3-4290-97dc-8dfd948f8f14",
   "metadata": {},
   "outputs": [],
   "source": [
    "system_content = \"\"\"\n",
    "你是中国古典哲学大师，尤其擅长周易的哲学解读。\n",
    "\n",
    "接下来，你收到的都是关于周易卦象的解释，你需要整理润色，并生成用于大模型训练的内容和格式。\n",
    "\n",
    "示例输入：\n",
    "\n",
    "师卦，此卦是异卦相叠，下卦为坎，上卦为坤。“师”指军队。坎为水、为险；坤为地、为顺，喻寓兵于农。兵凶战危，用兵乃圣人不得已而为之，但它可以顺利无阻碍地解决矛盾，因为顺乎形势，师出有名，故能化凶为吉。占得此卦，对于军事上率师出征非常有利，必无灾祸。师卦是天马出群之卦，以寡伏众之象。\n",
    "师卦位于讼卦之后，《序卦》之中这样解释道：“讼必有众起，故受之以师。师者，众也。”争讼的人越来越多，以致形成了军队。\n",
    "\n",
    "期待结果：\n",
    "\n",
    "content:\"师卦\"\n",
    "summary:\"在周易中，师卦是一个极具深意的卦象，它由两个异卦相叠组成：下卦坎（水）和上卦坤（地）。这一卦象代表“师”，即军队，寓意着兵力和农力的结合。在这里，坎卦象征着水和险难，而坤卦象征着地和顺从，暗示着通过将军事力量安置于民间，可以在必要时顺利调动。\n",
    "\n",
    "师卦的核心哲学是：虽然兵力代表着危险和战争，但其使用应当是圣人不得已而为之的最后手段。在正确的情况下，军事力量可以顺应形势，将危险转化为吉祥。因此，在军事策略上，此卦象征着出征将会顺利，无灾祸。\n",
    "\n",
    "师卦紧随讼卦（争讼卦），在《序卦》中解释为“讼必有众起，故受之以师”。这意味着争端激化至众多人群的参与，形成了类似军队的集体力量。\"\n",
    "\"\"\"\n"
   ]
  },
  {
   "cell_type": "code",
   "execution_count": 18,
   "id": "4678fd0d-147a-4bca-ab12-1cd4c15a700b",
   "metadata": {},
   "outputs": [],
   "source": [
    "# 原始数据\n",
    "raw_content = \"蒙卦是教育启蒙的智慧，艮为山，坎为泉，山下出泉。泉水始流出山，则必将渐汇成江河,正如蒙稚渐启，又山下有险，因为有险停止不前，所以蒙昧不明。事物发展的初期阶段，必然蒙昧，所以教育是当务之急，养学生纯正无邪的品质，是治蒙之道。\\n蒙卦，这个卦是异卦相叠，下卦为坎，上卦为艮。艮是山的形象，喻止；坎是水的形象，喻险。卦形为山下有险，仍不停止前进，是为蒙昧，故称蒙卦。但因把握时机，行动切合时宜;因此，具有启蒙和通达的卦象。\\n《蒙》卦是《屯》卦这个始生卦之后的第二卦。《序卦》中说：“物生必蒙，故受之以蒙。蒙者，蒙也，特之稚也。”物之幼稚阶段，有如蒙昧未开的状态，在人则是指童蒙。\\n《象》中这样解释蒙卦：山下出泉，蒙；君子以果行育德。\""
   ]
  },
  {
   "cell_type": "code",
   "execution_count": 19,
   "id": "dd57faee-81cf-4fd9-ad90-cc1583cfa32a",
   "metadata": {},
   "outputs": [],
   "source": [
    "messages = [\n",
    "    SystemMessage(\n",
    "        content=system_content\n",
    "    ),\n",
    "    HumanMessage(\n",
    "        content=raw_content\n",
    "    ),\n",
    "]"
   ]
  },
  {
   "cell_type": "code",
   "execution_count": 23,
   "id": "19eec711-faa3-463a-8e5f-a100696491eb",
   "metadata": {},
   "outputs": [],
   "source": [
    "ai_message = chat(messages)"
   ]
  },
  {
   "cell_type": "markdown",
   "id": "15df67cd-3dab-4c54-a4f2-0b14c0c52953",
   "metadata": {},
   "source": [
    "### 解析 OpenAI GPT 生成的训练数据"
   ]
  },
  {
   "cell_type": "code",
   "execution_count": 24,
   "id": "ea3d3181-fd27-4d4f-a305-98c295b4317b",
   "metadata": {},
   "outputs": [
    {
     "data": {
      "text/plain": [
       "'content:\"蒙卦\"\\nsummary:\"蒙卦在周易中代表教育启蒙的智慧。这一卦象由两个异卦相叠而成，下卦为坎（水），上卦为艮（山）。艮象征山，意味着止；坎象征水，喻示险难。因此，这一卦象形成了山下有险的局面，并意味着蒙昧不明。事物发展的初期阶段，必然是蒙昧的，因此通过教育启蒙来培养学生纯正无邪的品质，是治蒙之道。\"\\n\\n蒙卦作为第二卦，紧跟着始生卦屯卦，传达出了物生必蒙的深刻哲学思想。在《序卦》中的解释，物生必经过蒙昧阶段，所以这一卦象被称为蒙卦。在人类社会中，童蒙期也是人类经历的蒙昧阶段。\\n\\n通过《象》中山下出泉，蒙的解释，我们可以看到，物质进入蒙昧状态时需要有启蒙和通达的方法去引导。君子应该坚持果敢行动，进行美德培养。因此，蒙卦成为了教育启蒙的智慧。'"
      ]
     },
     "execution_count": 24,
     "metadata": {},
     "output_type": "execute_result"
    }
   ],
   "source": [
    "ai_message.content"
   ]
  },
  {
   "cell_type": "code",
   "execution_count": 25,
   "id": "2564444f-e237-425b-adc4-429115bb86dd",
   "metadata": {},
   "outputs": [
    {
     "name": "stdout",
     "output_type": "stream",
     "text": [
      "Content: 蒙卦\n",
      "Summary: 蒙卦在周易中代表教育启蒙的智慧。这一卦象由两个异卦相叠而成，下卦为坎（水），上卦为艮（山）。艮象征山，意味着止；坎象征水，喻示险难。因此，这一卦象形成了山下有险的局面，并意味着蒙昧不明。事物发展的初期阶段，必然是蒙昧的，因此通过教育启蒙来培养学生纯正无邪的品质，是治蒙之道。\n"
     ]
    }
   ],
   "source": [
    "text = ai_message.content\n",
    "\n",
    "# 分割字符串来找到content和summary的位置\n",
    "content_start = text.find('content:\"') + len('content:\"')\n",
    "content_end = text.find('\"\\nsummary:')\n",
    "summary_start = text.find('summary:\"') + len('summary:\"')\n",
    "summary_end = text.rfind('\"')\n",
    "\n",
    "# 提取并存储content和summary\n",
    "content = text[content_start:content_end].strip()\n",
    "summary = text[summary_start:summary_end].strip()\n",
    "\n",
    "print(\"Content:\", content)\n",
    "print(\"Summary:\", summary)\n"
   ]
  },
  {
   "cell_type": "markdown",
   "id": "ba36506e-2871-4ad9-b928-ec9338969ce9",
   "metadata": {},
   "source": [
    "### 持久化存储训练数据集文件"
   ]
  },
  {
   "cell_type": "code",
   "execution_count": 26,
   "id": "d9fa000b-c4d4-41d2-94cf-7564e8dad87f",
   "metadata": {},
   "outputs": [],
   "source": [
    "import csv\n",
    "\n",
    "# 如果没有GPT API，可以使用预定义的变量\n",
    "# content = \"蒙卦\"\n",
    "# summary = \"在周易中，师卦是一个极具深意的卦象，它由两个异卦相叠组成：下卦坎（水）和上卦坤（地）。这一卦象代表“师”，即军队，寓意着兵力和农力的结合。在这里，坎卦象征着水和险难，而坤卦象征着地和顺从，暗示着通过将军事力量安置于民间，可以在必要时顺利调动。师卦的核心哲学是：虽然兵力代表着危险和战争，但其使用应当是圣人不得已而为之的最后手段。在正确的情况下，军事力量可以顺应形势，将危险转化为吉祥。因此，在军事策略上，此卦象征着出征将会顺利，无灾祸。师卦紧随讼卦（争讼卦），在《序卦》中解释为“讼必有众起，故受之以师”。这意味着争端激化至众多人群的参与，形成了类似军队的集体力量。\"\n",
    "\n",
    "# 新建CSV文件并写入数据\n",
    "with open('test_dataset.csv', mode='w', newline='', encoding='utf-8') as file:\n",
    "    writer = csv.writer(file)\n",
    "    # 写入标题行\n",
    "    writer.writerow(['content', 'summary'])\n",
    "    # 写入数据行\n",
    "    writer.writerow([content, summary])\n"
   ]
  },
  {
   "cell_type": "code",
   "execution_count": null,
   "id": "e6e2e4ed-08a2-4e9d-ba18-d55685d44df3",
   "metadata": {},
   "outputs": [],
   "source": []
  },
  {
   "cell_type": "markdown",
   "id": "df4aed7d-f597-46c5-a25e-960fd731bb3c",
   "metadata": {},
   "source": [
    "### 数据增强：构造多样化的提问方式"
   ]
  },
  {
   "cell_type": "code",
   "execution_count": 27,
   "id": "6b335c84-e0ee-49a3-bca9-d45d1701bde4",
   "metadata": {},
   "outputs": [],
   "source": [
    "def generate_question_summary_pairs(content, summary):\n",
    "    \"\"\"\n",
    "    生成20对提问和总结的配对。\n",
    "\n",
    "    :param content: 内容（例如：“蒙卦”）。\n",
    "    :param summary: 内容的总结。\n",
    "    :return: 包含20对提问和总结的列表。\n",
    "    \"\"\"\n",
    "    # 20种提问模板\n",
    "    question_templates = [\n",
    "        \"{}代表什么？\",\n",
    "        \"周易中的{}含义是什么？\",\n",
    "        \"请解释一下{}。\",\n",
    "        \"{}在周易中是什么象征？\",\n",
    "        \"周易{}的深层含义是什么？\",\n",
    "        \"{}和教育启蒙有什么联系？\",\n",
    "        \"周易的{}讲述了什么？\",\n",
    "        \"{}是怎样的一个卦象？\",\n",
    "        \"{}在周易中怎样表达教育的概念？\",\n",
    "        \"{}的基本意义是什么？\",\n",
    "        \"周易中{}的解释是什么？\",\n",
    "        \"{}在周易中代表了哪些方面？\",\n",
    "        \"{}涉及哪些哲学思想？\",\n",
    "        \"周易中{}的象征意义是什么？\",\n",
    "        \"{}的主要讲述内容是什么？\",\n",
    "        \"周易{}的核心思想是什么？\",\n",
    "        \"{}和启蒙教育之间有何联系？\",\n",
    "        \"在周易中，{}象征着什么？\",\n",
    "        \"请描述{}的含义。\",\n",
    "        \"{}在周易哲学中扮演什么角色？\"\n",
    "    ]\n",
    "\n",
    "    # 使用content填充提问模板\n",
    "    questions = [template.format(content) for template in question_templates]\n",
    "\n",
    "    # 创建提问和总结的配对\n",
    "    question_summary_pairs = [(question, summary) for question in questions]\n",
    "\n",
    "    return question_summary_pairs"
   ]
  },
  {
   "cell_type": "code",
   "execution_count": 28,
   "id": "05349693-61a9-4557-ba9a-c0f4ff24a1ac",
   "metadata": {},
   "outputs": [],
   "source": [
    "import csv\n",
    "\n",
    "# 如果没有GPT API，可以使用预定义的变量\n",
    "# content = \"蒙卦\"\n",
    "# summary = \"在周易中，师卦是一个极具深意的卦象，它由两个异卦相叠组成：下卦坎（水）和上卦坤（地）。这一卦象代表“师”，即军队，寓意着兵力和农力的结合。在这里，坎卦象征着水和险难，而坤卦象征着地和顺从，暗示着通过将军事力量安置于民间，可以在必要时顺利调动。师卦的核心哲学是：虽然兵力代表着危险和战争，但其使用应当是圣人不得已而为之的最后手段。在正确的情况下，军事力量可以顺应形势，将危险转化为吉祥。因此，在军事策略上，此卦象征着出征将会顺利，无灾祸。师卦紧随讼卦（争讼卦），在《序卦》中解释为“讼必有众起，故受之以师”。这意味着争端激化至众多人群的参与，形成了类似军队的集体力量。\"\n",
    "pairs = generate_question_summary_pairs(content, summary)\n",
    "\n",
    "# 将结果写入CSV文件\n",
    "with open('test_dataset.csv', mode='w', newline='', encoding='utf-8') as file:\n",
    "    writer = csv.writer(file)\n",
    "    writer.writerow(['content', 'summary'])\n",
    "    for pair in pairs:\n",
    "        writer.writerow(pair)\n"
   ]
  },
  {
   "cell_type": "markdown",
   "id": "3825a610-a117-4f76-ad6f-35a491aeec24",
   "metadata": {},
   "source": [
    "## 自动化批量生成训练数据流水线\n",
    "\n",
    "原始数据来源：https://www.zhouyi.cc/zhouyi/yijing64/4103.html"
   ]
  },
  {
   "cell_type": "code",
   "execution_count": 5,
   "id": "fd387396-25b6-48ef-b510-bb3906ba52d4",
   "metadata": {},
   "outputs": [],
   "source": [
    "# 初始化一个空列表用于存储原始内容数据\n",
    "raw_content_data = []\n",
    "\n",
    "# 读取文件并分割数据样例\n",
    "with open('./data/zhouyi/raw_data.txt', 'r', encoding='utf-8') as file:\n",
    "    content = file.read()\n",
    "    # 使用连续的换行符('\\n\\n')作为分隔符来分割文本\n",
    "    data_samples = content.split('\\n\\n')\n",
    "\n",
    "    # 遍历分割后的数据样例并添加到列表中\n",
    "    for sample in data_samples:\n",
    "        # 移除每个样例中的额外空白字符（如果有的话）\n",
    "        cleaned_sample = sample.strip()\n",
    "        # 仅添加非空样例\n",
    "        if cleaned_sample:\n",
    "            raw_content_data.append(cleaned_sample)"
   ]
  },
  {
   "cell_type": "code",
   "execution_count": 31,
   "id": "ed7f642e-d5de-4d19-8c16-07240daf70df",
   "metadata": {},
   "outputs": [
    {
     "name": "stdout",
     "output_type": "stream",
     "text": [
      "样例 1:\n",
      "蒙卦原文\n",
      "蒙。亨。匪我求童蒙，童蒙求我。初筮告，再三渎，渎则不告。利贞。\n",
      "象曰：山下出泉，蒙。君子以果行育德。\n",
      "白话文解释\n",
      "蒙卦：通泰。不是我有求于幼稚愚昧的人，而是幼稚愚昧的人有求于我。第一次占筮，神灵告诉了他。轻慢不敬的再三占筮，轻慢不敬的占筮，神灵就不会告诉他。但还是吉利的卜问。\n",
      "《象辞》说：上卦为艮，象征山；下卦为坎，象征泉。山下有泉，泉水喷涌而出，这是蒙卦的卦象。君子观此卦象，取法于一往无前的山泉，从而以果敢坚毅的行动来培养自身的品德。\n",
      "《断易天机》解\n",
      "蒙卦艮上坎下，为离宫四世卦。蒙即蒙昧，主回还往复，疑惑不前，多忧愁过失，乃是凶卦。\n",
      "北宋易学家邵雍解\n",
      "智慧未开，蒙昧闭塞；犹豫不决，缺乏果断。\n",
      "得此卦者，智慧犹如童蒙，不辨是非，迷失方向；若能顺贤师良友之教，启其聪明则亨通。\n",
      "台湾国学大儒傅佩荣解\n",
      "时运：蓄积德行，出而用世。\n",
      "财运：矿山生意，果决则吉。\n",
      "家宅：君子居吉；婚姻之始。\n",
      "身体：驱去邪热，可保平安。\n",
      "传统解卦\n",
      "这个卦是异卦（下坎上艮）相叠，艮是山的形象，喻止；坎是水的形象，喻险。卦形为山下有险，仍不停止前进，是为蒙昧，故称蒙卦。但因把握时机，行动切合时宜，因此，具有启蒙和通达的卦象。\n",
      "大象：蒙者，昏而无所见也，故宜「启蒙」。\n",
      "运势：初时迷惑不知方向，须忍耐待机而动，凡事多听取别人意见，则运可通。\n",
      "事业：事业开始，混乱无序，危机四伏，以勇敢坚毅的行动可以扭转局面。然而必须接受严格教育，培养这种奋发图强的精神。务必脚踏实地，最忌好高骛远，否则会陷入孤立无援的境地。\n",
      "经商：务必小心谨慎，不得急功近利，尤其应树立高尚的商业道德，以良好的信誉提高竞争力而取胜。\n",
      "求名：必须接受良好的基础教育，陶冶情操。且动机纯正，可以达到目的。\n",
      "婚恋：注意考察对方品德，不可以金钱为诱铒。夫妻需相互宽容、理解。\n",
      "决策：有时会陷入迷惘困顿的境地，加上胆小、不果断，往往误事。如能接受长辈的教诲，甚至严酷的考验，抛弃疑惧的心理，等待适当时机，必然一帆风顺。\n",
      "------\n",
      "样例 2:\n",
      "屯卦原文\n",
      "屯。元，亨，利，贞。勿用，有攸往，利建侯。\n",
      "象曰：云，雷，屯；君子以经纶。\n",
      "白话文解释\n",
      "屯卦。大吉大利，吉利的占卜。不利于出门。有利于建国封侯。\n",
      "《象辞》说：屯的上卦为坎，坎为云，下卦为震，震为雷。云行于上，雷动于下，是屯卦的卦象。君子观此卦象，取法于云雷，用云的恩泽，雷的威严来治理国事。\n",
      "《断易天机》解\n",
      "屯卦坎上震下，为坎宫二世卦。屯说明有困难，又象征动而逢险境，需刚毅果敢方为吉。\n",
      "北宋易学家邵雍解\n",
      "万物始生，开始困难；先劳后逸，苦尽甘来。\n",
      "得此卦者，身处困境，宜守不宜进，须多加辛苦努力，排除困难，方可通达，有初难后解之象。\n",
      "台湾国学大儒傅佩荣解\n",
      "时运：宜守不宜进。\n",
      "财运：创业维艰。\n",
      "家宅：修缮住宅；初婚不和。\n",
      "身体：保存元气。\n",
      "传统解卦\n",
      "这个卦是异卦（下震上坎）相叠，震为雷，喻动；坎为雨，喻险。雷雨交加，险象丛生，环境恶劣。“屯”原指植物萌生大地，万物始生，充满艰难险阻，然而顺时应运，必欣欣向荣。\n",
      "大象：屯者难也，万事欲进而不得进。\n",
      "运势：身处困境，步步为营，有初难后解之意。\n",
      "事业：起初多有不利，要知难而进，小心翼翼，勇往直前，灵活机动，可望获得大的成功，时机到来时一定要抓住，却也不得操之太急，且仍有困难，务必有他人相助，故平时应多施恩惠。\n",
      "经商：创业初期步履艰难，多有挫折。坚定信念最重要，不要为表面现象所迷惑，应积极进取，行动果断，打开出路。若仍无法摆脱困境，则应退守保全，等待机会，再展宏图。\n",
      "求名：积极争取，主动追求，可以成功。\n",
      "婚恋：好事多磨，忠贞纯洁，大胆追求，能够成功，婚姻美满。\n",
      "决策：初始困难，但若具有坚忍不拔的毅力和锲而不舍的奋斗精神，前途不可估量，但往往不为他人理解而陷于孤独苦闷，事业会因此处于困难状态，需要得到贤德之人的帮助才能摆脱。如能以乐观主义精神处世，能取得成就。\n",
      "------\n",
      "样例 3:\n",
      "需卦原文\n",
      "需。有孚，光亨，贞吉。利涉大川。\n",
      "象曰：云上于天，需；君子以饮食宴乐。\n",
      "白话文解释\n",
      "需卦：抓到俘虏。大吉大利，吉利的卜问。有利于涉水渡河。\n",
      "《象辞》说：需的上卦为坎，表示云；下卦为乾，表示天。云浮聚于天上，待时降雨是需卦的卦象。君子观此卦象，可以宴饮安乐，待时而动。\n",
      "《断易天机》解\n",
      "需卦坎上乾下，为坤宫游魂卦。需为踌躇、期待，虽然刚强，但前面有险阻，应当等待，涉大川则利。\n",
      "北宋易学家邵雍解\n",
      "坎陷当前，遇阻不进；大器晚成，收成在后。\n",
      "得此卦者，时机尚未成熟，需要耐心等待，急进反会见凶。\n",
      "台湾国学大儒傅佩荣解\n",
      "时运：时机尚未成熟，耐心等待。\n",
      "财运：资本未集，无法开张。\n",
      "家宅：平安是福。\n",
      "身体：调节饮食，健康有望。\n",
      "传统解卦\n",
      "这个卦是异卦（下乾上坎）相叠，下卦是乾，刚健之意；上卦是坎，险陷之意。以刚逢险，宜稳健之妥，不可冒失行动，观时待变，所往一定成功。\n",
      "大象：云登天上而未雨，不能急进，等待时机之象。\n",
      "运势：智者必须待时而行，急进反见凶险。\n",
      "事业：关键在于审时度势，耐心等待，事成于安祥，切勿冒险，欲速不达。自己要充满自信，临危不惧，坚守中正，必可化险为夷。情况有利时，仍得居安思危。\n",
      "经商：行动之初，情况困难，必须以极大的耐心，创造条件和机会，行事光明磊落，观时待变，实现愿望。事情接近成功时，更应小心谨慎，切莫功亏一篑。\n",
      "求名：时机尚不成熟，应耐心等待。这时应坚定信念，不为闲言流语所动摇，努力丰富自己，再求助可靠的人便可成功。\n",
      "婚恋：慎重，切不可草率行事，逐渐培养感情，以诚实、热情相待，会发生变故，仍可以有良好的结局。双方都应懂得以柔克刚的道理。\n",
      "决策：前途光明，有雄心大志，且可实现。为此需要积蓄实力，等待时机，大器晚成。本人具有坚强的意志，冷静的头脑。前进途中会遇到困难和险阻，必须十分谨慎，坦然对待小人的中伤，在灾祸在面前能镇静自若。不轻举妄动，冷静选择方向。为人谦和、坦率，多有他人相助，促使事业成功。当时机成熟后，必然一帆风顺。\n",
      "------\n",
      "样例 4:\n",
      "讼卦原文\n",
      "讼。有孚，窒惕，中吉，终凶。利见大人，不利涉大川。\n",
      "象曰：天与水违行，讼。君子以做事谋始。\n",
      "白话文解释\n",
      "讼卦：虽有利可图(获得俘虏)，但要警惕戒惧。其事中间吉利，后来凶险。占筮得此爻，有利于会见贵族王公，不利于涉水渡河。\n",
      "《象辞》说：上卦为乾，乾为天；下卦为坎，坎为水，天水隔绝，流向相背，事理乖舛，这是讼卦的卦象。君子观此卦象，以杜绝争讼为意，从而在谋事之初必须慎之又慎。\n",
      "《断易天机》解\n",
      "讼卦乾上坎下，为离宫游魂卦。上乾为刚，下坎为险，一方刚强，一方阴险，必然产生争论，因此多有不吉。\n",
      "北宋易学家邵雍解\n",
      "天高水深，达远不亲；慎谋退守，敬畏无凶。\n",
      "得此卦者，身心不安，事多不顺，与他人多争诉之事，宜修身养性，谨慎处事。\n",
      "台湾国学大儒傅佩荣解\n",
      "时运：功名受阻，不宜树敌。\n",
      "财运：开始谨慎，终可获利。\n",
      "家宅：君子必求淑女。\n",
      "身体：预防胜于治疗。\n",
      "传统解卦\n",
      "这个卦是异卦（下坎上乾）相叠。同需卦相反，互为“综卦”。乾为刚健，坎为险陷。刚与险，健与险，彼此反对，定生争讼。争讼非善事，务必慎重戒惧。\n",
      "大象：乾天升于上，坎水降于下，相背而行而起讼。\n",
      "运势：事与愿违，凡事不顺，小人加害，宜防陷阱。\n",
      "事业：起初顺利，有利可图，继而受挫，务必警惕，慎之又慎，不得固执已见，极力避免介入诉讼纠纷的争执之中。与其这样，不如退而让人，求得化解，安于正理，可免除意外之灾。陷入争讼，即使获胜，最后还得失去，得不偿失。\n",
      "经商：和气生财，吃亏是福，切勿追求不义之财。商业谈判应坚持公正、公平、互利的原则，尽量避免发生冲突。这样便会有好结果。\n",
      "求名：不利。自己尚缺乏竞争实力，应坚守纯正，隐忍自励，自强自勉，切莫逞强。依靠有地位的人的帮助，及早渡过难关。\n",
      "婚恋：虽不尽人意，倒也般配，彼此理解，未尝不可。双方应以温和的方式处理生活。\n",
      "决策：争强好胜，不安于现状，为改变命运和超越他人而奋斗。头脑聪颖，反应敏捷，有贵人相助。但缺乏持之以恒的毅力，容易露出锋芒，得罪他人，带来诉讼之灾。宜承认现实，顺其自然，知足，适可而止。接受教训，引以为戒，可功成名就。\n",
      "------\n",
      "样例 5:\n",
      "师卦原文\n",
      "师。贞，丈人吉，无咎。\n",
      "象曰：地中有水，师。君子以容民畜众。\n",
      "白话文解释\n",
      "师卦：占问总指挥的军情，没有灾祸。\n",
      "《象辞》说：下卦为坎，坎为水；上卦为坤，坤为地，像“地中有水”，这是师卦的卦象。君子观此卦象，取法于容纳江河的大地，收容和畜养大众。\n",
      "《断易天机》解\n",
      "师卦坤上坎下，为坎宫归魂卦。师即兵众，只有选择德高望重的长者来统率军队，才能吉祥无咎。\n",
      "北宋易学家邵雍解\n",
      "忧劳动众，变化无穷；公正无私，排除万难。\n",
      "得此卦者，困难重重，忧心劳众，宜包容别人，艰苦努力，摒除一切困难。\n",
      "台湾国学大儒傅佩荣解\n",
      "时运：包容别人，修行待时。\n",
      "财运：有财有库，善自珍惜。\n",
      "家宅：旧亲联姻，可喜可贺。\n",
      "身体：腹胀之症，调气无忧。\n",
      "传统解卦\n",
      "这个卦是异卦（下坎上坤）相叠。“师”指军队。坎为水、为险；坤为地、为顺，喻寓兵于农。兵凶战危，用兵乃圣人不得已而为之，但它可以顺利无阻碍地解决矛盾，因为顺乎形势，师出有名，故能化凶为吉。\n",
      "大象：养兵聚众，出师攻伐之象，彼此有伤，难得安宁。\n",
      "运势：困难重重，凡事以正规行事，忌独断独行、投机取巧，提防潜在敌人。\n",
      "事业：阻力很大，困难很多，处于激烈的竞争状态，要与他人密切合作，谨小慎微，行为果断，切忌盲目妄动，适度即可，注意保全自己。机动灵活，严于律已。从容沉着对付一切，必能成功。\n",
      "经商：已有一定的积蓄，可以从事大的营销活动，但必卷入激烈商战，以刚毅顽强的精神和高尚的商业道德，辅以灵活的方法，勿贪图小利，勿掉以轻心，加强与他人的沟通，必可摆脱困境，化险为夷。\n",
      "求名：具备很好的条件，但须有正确的引导，务必严格要求自己，克服不利因素的干扰，经过扎实努力，必可名利双全。\n",
      "婚恋：慎重、专注，否则会陷入“三角”纠纷。痴情追求可以达到目的。\n",
      "决策：天资聪颖，性格灵活，具有坚强的意志，对事业执着追求，迎难而进。可成就大事业。喜竞争，善争辩，富有冒险精神，不免带来麻烦，务老成持重，不贪功，以中正为要。\n",
      "------\n"
     ]
    }
   ],
   "source": [
    "# 输出结果以验证\n",
    "for i, sample in enumerate(raw_content_data[:5]):  # 打印前5个样例以检查\n",
    "    print(f\"样例 {i+1}:\")\n",
    "    print(sample)\n",
    "    print(\"------\")\n"
   ]
  },
  {
   "cell_type": "markdown",
   "id": "7633a7be-88f2-4d59-9070-d8a08e6e909c",
   "metadata": {},
   "source": [
    "### 将以上的所有模块，整合到一起，自动化生成数据"
   ]
  },
  {
   "cell_type": "code",
   "execution_count": 3,
   "id": "fd5d803a-6adf-4b6b-acda-7dbb7a259f06",
   "metadata": {},
   "outputs": [
    {
     "name": "stderr",
     "output_type": "stream",
     "text": [
      "/root/miniconda3/envs/peft/lib/python3.11/site-packages/langchain_core/_api/deprecation.py:117: LangChainDeprecationWarning: The class `langchain_community.chat_models.azure_openai.AzureChatOpenAI` was deprecated in langchain-community 0.0.10 and will be removed in 0.2.0. An updated version of the class exists in the langchain-openai package and should be used instead. To use it run `pip install -U langchain-openai` and import as `from langchain_openai import AzureChatOpenAI`.\n",
      "  warn_deprecated(\n",
      "WARNING! top_p is not default parameter.\n",
      "                    top_p was transferred to model_kwargs.\n",
      "                    Please confirm that top_p is what you intended.\n",
      "WARNING! frequency_penalty is not default parameter.\n",
      "                    frequency_penalty was transferred to model_kwargs.\n",
      "                    Please confirm that frequency_penalty is what you intended.\n",
      "WARNING! presence_penalty is not default parameter.\n",
      "                    presence_penalty was transferred to model_kwargs.\n",
      "                    Please confirm that presence_penalty is what you intended.\n",
      "/root/miniconda3/envs/peft/lib/python3.11/site-packages/langchain_community/chat_models/azure_openai.py:167: UserWarning: As of openai>=1.0.0, Azure endpoints should be specified via the `azure_endpoint` param not `openai_api_base` (or alias `base_url`). Updating `openai_api_base` from https://yicheapp-service.openai.azure.com/ to https://yicheapp-service.openai.azure.com/openai.\n",
      "  warnings.warn(\n"
     ]
    }
   ],
   "source": [
    "# from langchain.chat_models import ChatOpenAI\n",
    "from langchain.chat_models import AzureChatOpenAI\n",
    "from langchain.schema import HumanMessage, SystemMessage\n",
    "from langchain.prompts.chat import (\n",
    "    ChatPromptTemplate,\n",
    "    HumanMessagePromptTemplate,\n",
    "    SystemMessagePromptTemplate,\n",
    ")\n",
    "\n",
    "# 初始化LangChain的GPT-3.5调用\n",
    "chat = AzureChatOpenAI(model=deployment,\n",
    "                  temperature=1,\n",
    "                  max_tokens=4095,\n",
    "                  top_p=1,\n",
    "                  frequency_penalty=0,\n",
    "                  presence_penalty=0)\n",
    "\n",
    "def gen_data(raw_content):\n",
    "    \"\"\"\n",
    "    使用LangChain GPT-3.5调用处理单个数据样例。\n",
    "\n",
    "    :param raw_content: 原始数据样例。\n",
    "    :return: GPT-3.5模型生成的内容。\n",
    "    \"\"\"\n",
    "    # 系统消息定义背景和任务\n",
    "    system_message = SystemMessage(\n",
    "        content=\"\"\"\n",
    "        你是中国古典哲学大师，尤其擅长周易的哲学解读。\n",
    "\n",
    "        接下来，你收到的都是关于周易卦象的解释，你需要整理润色，并生成用于大模型训练的内容和格式。\n",
    "\n",
    "        示例输入：\n",
    "\n",
    "        师卦，此卦是异卦相叠，下卦为坎，上卦为坤。“师”指军队。坎为水、为险；坤为地、为顺，喻寓兵于农。兵凶战危，用兵乃圣人不得已而为之，但它可以顺利无阻碍地解决矛盾，因为顺乎形势，师出有名，故能化凶为吉。占得此卦，对于军事上率师出征非常有利，必无灾祸。师卦是天马出群之卦，以寡伏众之象。\n",
    "        师卦位于讼卦之后，《序卦》之中这样解释道：“讼必有众起，故受之以师。师者，众也。”争讼的人越来越多，以致形成了军队。\n",
    "\n",
    "        期待结果：\n",
    "\n",
    "        content:\"师卦\"\n",
    "        summary:\"在周易中，师卦是一个极具深意的卦象，它由两个异卦相叠组成：下卦坎（水）和上卦坤（地）。这一卦象代表“师”，即军队，寓意着兵力和农力的结合。在这里，坎卦象征着水和险难，而坤卦象征着地和顺从，暗示着通过将军事力量安置于民间，可以在必要时顺利调动。\n",
    "\n",
    "        师卦的核心哲学是：虽然兵力代表着危险和战争，但其使用应当是圣人不得已而为之的最后手段。在正确的情况下，军事力量可以顺应形势，将危险转化为吉祥。因此，在军事策略上，此卦象征着出征将会顺利，无灾祸。\n",
    "\n",
    "        师卦紧随讼卦（争讼卦），在《序卦》中解释为“讼必有众起，故受之以师”。这意味着争端激化至众多人群的参与，形成了类似军队的集体力量。\"\n",
    "        \n",
    "        返回格式要求：\n",
    "        content:\"{卦名}\"\n",
    "        summary:\"{内容}\"\n",
    "        \"\"\"\n",
    "    )\n",
    "\n",
    "    # 人类消息包含原始数据样例\n",
    "    human_message = HumanMessage(\n",
    "        content=raw_content\n",
    "    )\n",
    "\n",
    "    # 构建消息列表并进行模型调用\n",
    "    messages = [system_message, human_message]\n",
    "    ai_message = chat(messages)\n",
    "\n",
    "    return ai_message.content"
   ]
  },
  {
   "cell_type": "code",
   "execution_count": 7,
   "id": "7790a03b-2fe7-445d-90d4-941d790d419b",
   "metadata": {},
   "outputs": [
    {
     "name": "stdout",
     "output_type": "stream",
     "text": [
      "content:\"蒙卦\"\n",
      "summary:\"《周易》中的蒙卦是由艮宫和坎宫组成的，代表了一种对于事物的困惑和迷惘。在卜问初期，神灵会相应地给予答案，但是占筮无度则会失去神灵的指引。虽然充满了不确定性，但是蒙卦还是一个非常吉利的卦象。寓意着在关键时刻一定要以果敢的行动来对待事情，以培养自身的品德和坚韧精神。\"\n",
      "\n"
     ]
    }
   ],
   "source": [
    "# 示例调用（使用 raw_data.txt 中解析的数据样例）\n",
    "generated_content = gen_data(raw_content_data[0])\n",
    "print(generated_content)"
   ]
  },
  {
   "cell_type": "code",
   "execution_count": 9,
   "id": "4e37d53c-3dd4-4494-a83f-c45786e40caa",
   "metadata": {},
   "outputs": [],
   "source": [
    "def dataset_parser(ai_message_content):\n",
    "    \"\"\"\n",
    "    解析由gen_data函数生成的ai_message.content，提取content和summary。\n",
    "\n",
    "    :param ai_message_content: gen_data函数返回的文本。\n",
    "    :return: 提取的content和summary。\n",
    "    \"\"\"\n",
    "    # 分割字符串来找到content和summary的位置\n",
    "    content_start = ai_message_content.find('content:\"') + len('content:\"')\n",
    "    content_end = ai_message_content.find('\"\\nsummary:')\n",
    "    summary_start = ai_message_content.find('summary:\"') + len('summary:\"')\n",
    "    summary_end = ai_message_content.rfind('\"')\n",
    "\n",
    "    # 提取并存储content和summary\n",
    "    content = ai_message_content[content_start:content_end].strip()\n",
    "    summary = ai_message_content[summary_start:summary_end].strip()\n",
    "\n",
    "    return content, summary\n"
   ]
  },
  {
   "cell_type": "code",
   "execution_count": 10,
   "id": "bc2f94fd-52d2-473e-b70a-721ab4d1f5cf",
   "metadata": {},
   "outputs": [
    {
     "name": "stdout",
     "output_type": "stream",
     "text": [
      "Content: 蒙卦\n",
      "Summary: 《周易》中的蒙卦是由艮宫和坎宫组成的，代表了一种对于事物的困惑和迷惘。在卜问初期，神灵会相应地给予答案，但是占筮无度则会失去神灵的指引。虽然充满了不确定性，但是蒙卦还是一个非常吉利的卦象。寓意着在关键时刻一定要以果敢的行动来对待事情，以培养自身的品德和坚韧精神。\n"
     ]
    }
   ],
   "source": [
    "# 示例调用（使用假设的gen_data函数返回的文本）\n",
    "content, summary = dataset_parser(generated_content)\n",
    "print(\"Content:\", content)\n",
    "print(\"Summary:\", summary)"
   ]
  },
  {
   "cell_type": "code",
   "execution_count": 57,
   "id": "716794df-b608-4cca-a45d-9c597cf2a333",
   "metadata": {},
   "outputs": [],
   "source": [
    "import csv\n",
    "import datetime\n",
    "import os\n",
    "\n",
    "def main():\n",
    "    # 确保 data 目录存在\n",
    "    if not os.path.exists('data'):\n",
    "        os.makedirs('data')\n",
    "\n",
    "    # 解析 data/raw_data.txt 得到 raw_content_data 列表\n",
    "    raw_content_data = []\n",
    "    with open('./data/zhouyi/raw_data.txt', 'r', encoding='utf-8') as file:\n",
    "        content = file.read()\n",
    "        data_samples = content.split('\\n\\n')\n",
    "        for sample in data_samples:\n",
    "            cleaned_sample = sample.strip()\n",
    "            if cleaned_sample:\n",
    "                raw_content_data.append(cleaned_sample)\n",
    "\n",
    "    # 创建带有时间戳的CSV文件名\n",
    "    timestamp = datetime.datetime.now().strftime(\"%Y%m%d_%H%M%S\")\n",
    "    filename = f\"./data/zhouyi/zhouyi_dataset_{timestamp}.csv\"\n",
    "\n",
    "    # 创建CSV文件并写入标题行\n",
    "    with open(filename, mode='w', newline='', encoding='utf-8') as file:\n",
    "        writer = csv.writer(file)\n",
    "        writer.writerow(['content', 'summary'])\n",
    "\n",
    "        # 循环遍历 raw_content_data 数据样例\n",
    "        for raw_content in raw_content_data:\n",
    "            # 调用 gen_data 方法得到 ai_message_content\n",
    "            ai_message_content = gen_data(raw_content)\n",
    "\n",
    "            # 解析 ai_message_content 得到 content 和 summary\n",
    "            content, summary = dataset_parser(ai_message_content)\n",
    "            \n",
    "            print(\"Content:\", content)\n",
    "            print(\"Summary:\", summary)\n",
    "\n",
    "            # 调用 generate_question_summary_pairs 得到20组 pairs\n",
    "            pairs = generate_question_summary_pairs(content, summary)\n",
    "\n",
    "            # 将 pairs 写入 csv 文件\n",
    "            for pair in pairs:\n",
    "                writer.writerow(pair)\n"
   ]
  },
  {
   "cell_type": "code",
   "execution_count": 58,
   "id": "c7869572-220d-4542-ab57-9d98613bbc80",
   "metadata": {},
   "outputs": [
    {
     "name": "stdout",
     "output_type": "stream",
     "text": [
      "Content: 蒙卦\n",
      "Summary: 蒙卦是一个通泰的卦象，它由艮上坎下两个异卦组成，象征着山下有泉，是由昏迷和险恶中通过行动、启蒙来通达和照亮未来的过程。尽管刚开始会犹豫不决，缺乏果断，但是接受正确引导，顺应大势就能转危为安。在事业、经商、求名和婚恋等方面，都需要耐心等待，接受指导，积蓄德行，务必脚踏实地，谨慎行事。\n",
      "Content: 屯卦是一个异卦相叠的卦象，下卦为震（代表“雷”），上卦为坎（代表“水”），象征着万物开始萌生之初，环境险恶，充满艰难险阻。然而，随着时机的顺应，必将欣欣向荣。\n",
      "\n",
      "屯卦所代表的主要哲学思想是：先劳后逸，苦尽甘来。得卦者需坚毅果敢方可克服困难，随着时机的到来迎来繁荣。\n",
      "\n",
      "《象辞》指出，屯卦的卦象中，上震下坎，为雷雨交加，险象丛生，名为“屯”，表示万物初生之时，环境恶劣，意味着困难和障碍。\n",
      "\n",
      "得此卦者，应当守正不宜过于冒进，因为初难之时更应该平心静气地思考，谋求有条不紊的发展方式。需要多加辛苦努力、排除磨难，才能通达，走出困境。\n",
      "\n",
      "在事业上，初始多有不利，需要顺应时机，勇往直前，灵活机动，坚定信念。适时地抓住机遇，创造条件，获得成功。这个过程中，应该注重施恩惠，以缓和困境。\n",
      "\n",
      "对于创业初期的人而言，屯卦提示有困难，要有坚定信念，不要被表面现象所迷惑，积极进取、行动果断，这样才能打开出路。如果一直无法摆脱困境，则应该退守保全，等待机会，再展宏图。\n",
      "\n",
      "总之，屯卦所代表的主题是起始阶段的艰难，需要刚毅果敢，坚定前行的信念和勇往直前的精神，才能获得成功\n",
      "Summary: 屯卦是一个异卦相叠的卦象，下卦为震（代表“雷”），上卦为坎（代表“水”），象征着万物开始萌生之初，环境险恶，充满艰难险阻。然而，随着时机的顺应，必将欣欣向荣。\n",
      "\n",
      "屯卦所代表的主要哲学思想是：先劳后逸，苦尽甘来。得卦者需坚毅果敢方可克服困难，随着时机的到来迎来繁荣。\n",
      "\n",
      "《象辞》指出，屯卦的卦象中，上震下坎，为雷雨交加，险象丛生，名为“屯”，表示万物初生之时，环境恶劣，意味着困难和障碍。\n",
      "\n",
      "得此卦者，应当守正不宜过于冒进，因为初难之时更应该平心静气地思考，谋求有条不紊的发展方式。需要多加辛苦努力、排除磨难，才能通达，走出困境。\n",
      "\n",
      "在事业上，初始多有不利，需要顺应时机，勇往直前，灵活机动，坚定信念。适时地抓住机遇，创造条件，获得成功。这个过程中，应该注重施恩惠，以缓和困境。\n",
      "\n",
      "对于创业初期的人而言，屯卦提示有困难，要有坚定信念，不要被表面现象所迷惑，积极进取、行动果断，这样才能打开出路。如果一直无法摆脱困境，则应该退守保全，等待机会，再展宏图。\n",
      "\n",
      "总之，屯卦所代表的主题是起始阶段的艰难，需要刚毅果敢，坚定前行的信念和勇往直前的精神，才能获得成功\n",
      "Content: （水）上乾卦（天）下组成。坎为云，乾为天，象征着云在天上聚集，等待降雨。因此，此卦标志着期待和等待的状态，但同时也表现出坚强和刚毅的品质。得到此卦，表示时机未到，需要耐心等待，直到时机合适才采取行动才会顺利成功。如果涉足涉水渡河，将会顺利进行并取得成功。\n",
      "\n",
      "需卦的核心哲学是在等待时仍须时刻保持战略和耐心。在周易的传统中，此卦是“饮食宴乐”的卦象，意味着在等待时要过快乐的生活，同时也要时刻关注目标及时采取行动。\n",
      "\n",
      "需卦代表义务，愿望成功的机会仍然遥远。因此，需要相应的耐心和努力来等待时机的到来。在进行商业或个人决策时，应考虑到持久、稳健的思路，时刻保持冷静和明智。只有这样才能不断向前，创造出更多机会，最终获得成功\n",
      "Summary: （水）上乾卦（天）下组成。坎为云，乾为天，象征着云在天上聚集，等待降雨。因此，此卦标志着期待和等待的状态，但同时也表现出坚强和刚毅的品质。得到此卦，表示时机未到，需要耐心等待，直到时机合适才采取行动才会顺利成功。如果涉足涉水渡河，将会顺利进行并取得成功。\n",
      "\n",
      "需卦的核心哲学是在等待时仍须时刻保持战略和耐心。在周易的传统中，此卦是“饮食宴乐”的卦象，意味着在等待时要过快乐的生活，同时也要时刻关注目标及时采取行动。\n",
      "\n",
      "需卦代表义务，愿望成功的机会仍然遥远。因此，需要相应的耐心和努力来等待时机的到来。在进行商业或个人决策时，应考虑到持久、稳健的思路，时刻保持冷静和明智。只有这样才能不断向前，创造出更多机会，最终获得成功\n",
      "Content: 讼卦为六十四卦之一，由上乾下坎组成。卦象中，乾为天，为刚；坎为水，为险。两者相对冲突，必定引发争论和讼事。此时，虽有利可图（获得俘虏），但要警惕戒惧，否则难以避免凶险。在占筮时，得此爻，有利于会见贵族王公，但不利于涉水渡河。\n",
      "\n",
      "讼卦的核心哲学是：争讼无利。在日常生活中，人们应该懂得相互谦让而不是挑起争端，避免战争和暴力。此卦为提醒人们谋事之初必须慎之又慎，杜绝争讼。遇到争论和纷争时，与其执着于自己的立场，不如采取更为温和的方式处理，寻求和解，这样便会避免引发诉讼之灾。\n",
      "\n",
      "在决策领域，讼卦暗示着在面对挑战和竞争时，不宜盲目冲突和强初始化，应保持清醒的头脑，寻求合适的解决方案，适可而止。只有这样，才能避免不必要的纠纷和冲突，为自己和他人创造更大的价值。\n",
      "\n",
      "总之，讼卦提醒我们在生活中要谨慎处事、团结友好，不好争论、不好挑衅，用心平和的态度，解决争端，获得真正的胜利\n",
      "Summary: 讼卦为六十四卦之一，由上乾下坎组成。卦象中，乾为天，为刚；坎为水，为险。两者相对冲突，必定引发争论和讼事。此时，虽有利可图（获得俘虏），但要警惕戒惧，否则难以避免凶险。在占筮时，得此爻，有利于会见贵族王公，但不利于涉水渡河。\n",
      "\n",
      "讼卦的核心哲学是：争讼无利。在日常生活中，人们应该懂得相互谦让而不是挑起争端，避免战争和暴力。此卦为提醒人们谋事之初必须慎之又慎，杜绝争讼。遇到争论和纷争时，与其执着于自己的立场，不如采取更为温和的方式处理，寻求和解，这样便会避免引发诉讼之灾。\n",
      "\n",
      "在决策领域，讼卦暗示着在面对挑战和竞争时，不宜盲目冲突和强初始化，应保持清醒的头脑，寻求合适的解决方案，适可而止。只有这样，才能避免不必要的纠纷和冲突，为自己和他人创造更大的价值。\n",
      "\n",
      "总之，讼卦提醒我们在生活中要谨慎处事、团结友好，不好争论、不好挑衅，用心平和的态度，解决争端，获得真正的胜利\n",
      "Content: 师卦\n",
      "Summary: 师卦是一个极具深意的卦象，由上卦坤（地）下卦坎（水）而成。在古代周朝时期，这一卦象被视作代表军队和兵力的象征。在占卜的结果中，师卦预示着出征将会顺利，没有灾祸。然而，该卦象的哲学意义更深刻，强调使用武力只能是圣人不得已而为之的最后手段。正确运用兵力，适应战争的形势，才能成功地化危为安。君子观此卦象，取法于容纳江河的大地，收容和畜养大众。\n",
      "Content: 一，为坤宫归魂卦。卦象为坤下坎上，坤象征大地，坎象征水，寓意水附大地，地纳江河。比卦阐述相亲相依、宽宏无私、精诚团结的道理，是与师卦相对应的综卦。\n",
      "\n",
      "得此卦者，可获得朋友之助，众人之力，谋事容易成功，荣显之极，十分吉祥顺利。卜问长期吉凶无咎，只有那些不愿臣服的邦国迟迟不来，这种后夫凶的情况需要留意。\n",
      "\n",
      "先王以建立万国，亲近诸侯的方式来领悟比卦。在人际交往方面，宜以诚待人，待人宽厚、正直。向才德高尚的人士学习，听取建议，多思考，善于判断是非。要注意选择朋友，一旦结上品行不端的人，会成为自己的祸患。如果与比自己高明的人交朋友，并取得帮助，会终身受益\n",
      "Summary: 一，为坤宫归魂卦。卦象为坤下坎上，坤象征大地，坎象征水，寓意水附大地，地纳江河。比卦阐述相亲相依、宽宏无私、精诚团结的道理，是与师卦相对应的综卦。\n",
      "\n",
      "得此卦者，可获得朋友之助，众人之力，谋事容易成功，荣显之极，十分吉祥顺利。卜问长期吉凶无咎，只有那些不愿臣服的邦国迟迟不来，这种后夫凶的情况需要留意。\n",
      "\n",
      "先王以建立万国，亲近诸侯的方式来领悟比卦。在人际交往方面，宜以诚待人，待人宽厚、正直。向才德高尚的人士学习，听取建议，多思考，善于判断是非。要注意选择朋友，一旦结上品行不端的人，会成为自己的祸患。如果与比自己高明的人交朋友，并取得帮助，会终身受益\n",
      "Content: 重要的卦象之一，它以地为象征，代表着柔顺和谦和。此卦图像形似“地”字，寓意着待人接物要像大地一样茁壮生长，坚韧不拔。\n",
      "\n",
      "得到此卦的卜者，应该注重内心修养，以柔克刚，以德服众，容忍负重，宽厚大度，顺应形势。在事业方面，坤卦表明要谨慎行事，不可急进，以稳健为妥，顺势而为，善于借助他人之力，共同完成事业；在经商方面，要注意储存货物，待价而沽，处处小心为是。\n",
      "\n",
      "总而言之，坤卦的哲学意义是追求柔和、和谐、温顺的力量，遵循天道，承载万物。对于人们的行事处世，坤卦教导我们要刚柔并重，兼顾柔性和刚性，以柔克刚，容忍待人，不失正义；在事业和经商上，遵循形势，量力而行，借助同道之人，不断追求进取。这种思想，即“厚德载物”，可谓是中国古代哲学中对人们行事处世最为宝贵的精神财富\n",
      "Summary: 重要的卦象之一，它以地为象征，代表着柔顺和谦和。此卦图像形似“地”字，寓意着待人接物要像大地一样茁壮生长，坚韧不拔。\n",
      "\n",
      "得到此卦的卜者，应该注重内心修养，以柔克刚，以德服众，容忍负重，宽厚大度，顺应形势。在事业方面，坤卦表明要谨慎行事，不可急进，以稳健为妥，顺势而为，善于借助他人之力，共同完成事业；在经商方面，要注意储存货物，待价而沽，处处小心为是。\n",
      "\n",
      "总而言之，坤卦的哲学意义是追求柔和、和谐、温顺的力量，遵循天道，承载万物。对于人们的行事处世，坤卦教导我们要刚柔并重，兼顾柔性和刚性，以柔克刚，容忍待人，不失正义；在事业和经商上，遵循形势，量力而行，借助同道之人，不断追求进取。这种思想，即“厚德载物”，可谓是中国古代哲学中对人们行事处世最为宝贵的精神财富\n",
      "Content: 摘要：\"乾卦\"是《易经》六十四卦的首卦，象征天，表明兴盛强健。卦辞为“元、亨、利、贞”，预示吉祥如意，但也提醒人们的注意事项。运势方面，表示名利双收，事业如日中天，但需要注意提高警惕，冷静处世。经商方面，有发展向上的机会，但需要坚持商业道德，冷静应对困难。对于求名、婚恋等方面也有相应的启示。对于决策，建议保持刚健、正直、公允的实质，积累知识，坚定信念，自强不息，必能消除困难，取得成功\n",
      "Summary: 摘要：\"乾卦\n"
     ]
    }
   ],
   "source": [
    "# 执行主函数\n",
    "main()"
   ]
  },
  {
   "cell_type": "code",
   "execution_count": null,
   "id": "7b2d3cb7-964f-4469-aae0-901328ea6df1",
   "metadata": {},
   "outputs": [],
   "source": []
  },
  {
   "cell_type": "code",
   "execution_count": null,
   "id": "99ef5651-4b69-4370-ad5b-b479e042f336",
   "metadata": {},
   "outputs": [],
   "source": []
  },
  {
   "cell_type": "code",
   "execution_count": null,
   "id": "ebc37c6c-1728-48d5-8e0e-31362c2b5d79",
   "metadata": {},
   "outputs": [],
   "source": []
  },
  {
   "cell_type": "markdown",
   "id": "ea12d689-c371-452b-b5e7-3b70a9b3d0b8",
   "metadata": {},
   "source": [
    "### 异常分析\n",
    "\n",
    "\n",
    "训练第一个 epoch 时，Training Loss 比较奇怪：\n",
    "\n",
    "```\n",
    "Step\tTraining Loss\n",
    "1\t3.594100\n",
    "2\t4.049100\n",
    "3\t3.091200\n",
    "4\t3.381700\n",
    "5\t3.547800\n",
    "6\t2.610200\n",
    "7\t2.657900\n",
    "8\t3.163900\n",
    "```\n",
    "\n",
    "通过解析 GPT-3.5-Turbo-1106 生成结果发现问题"
   ]
  },
  {
   "cell_type": "code",
   "execution_count": 26,
   "id": "8408c88d-c81e-4f5f-837c-5d157dd1b37f",
   "metadata": {},
   "outputs": [],
   "source": [
    "def gen_data(raw_content):\n",
    "    \"\"\"\n",
    "    使用LangChain GPT-3.5调用处理单个数据样例。\n",
    "\n",
    "    :param raw_content: 原始数据样例。\n",
    "    :return: GPT-3.5模型生成的内容。\n",
    "    \"\"\"\n",
    "    # 系统消息定义背景和任务\n",
    "    system_message = SystemMessage(\n",
    "        content=\"\"\"\n",
    "        你是中国古典哲学大师，尤其擅长周易的哲学解读。\n",
    "\n",
    "        接下来，你收到的都是关于周易卦象的解释，你需要整理润色，并生成用于大模型训练的内容和格式。\n",
    "\n",
    "        示例输入：\n",
    "\n",
    "        师卦，此卦是异卦相叠，下卦为坎，上卦为坤。“师”指军队。坎为水、为险；坤为地、为顺，喻寓兵于农。兵凶战危，用兵乃圣人不得已而为之，但它可以顺利无阻碍地解决矛盾，因为顺乎形势，师出有名，故能化凶为吉。占得此卦，对于军事上率师出征非常有利，必无灾祸。师卦是天马出群之卦，以寡伏众之象。\n",
    "        师卦位于讼卦之后，《序卦》之中这样解释道：“讼必有众起，故受之以师。师者，众也。”争讼的人越来越多，以致形成了军队。\n",
    "\n",
    "        期待结果：\n",
    "\n",
    "        content:\"师卦\"\n",
    "        summary:\"在周易中，师卦是一个极具深意的卦象，它由两个异卦相叠组成：下卦坎（水）和上卦坤（地）。这一卦象代表“师”，即军队，寓意着兵力和农力的结合。在这里，坎卦象征着水和险难，而坤卦象征着地和顺从，暗示着通过将军事力量安置于民间，可以在必要时顺利调动。\n",
    "\n",
    "        师卦的核心哲学是：虽然兵力代表着危险和战争，但其使用应当是圣人不得已而为之的最后手段。在正确的情况下，军事力量可以顺应形势，将危险转化为吉祥。因此，在军事策略上，此卦象征着出征将会顺利，无灾祸。\n",
    "\n",
    "        师卦紧随讼卦（争讼卦），在《序卦》中解释为“讼必有众起，故受之以师”。这意味着争端激化至众多人群的参与，形成了类似军队的集体力量。\"\n",
    "\n",
    "        返回格式要求：\n",
    "        content:\"{卦名}\"\n",
    "        summary:\"{内容}\"\n",
    "        \"\"\"\n",
    "    )\n",
    "\n",
    "    # 人类消息包含原始数据样例\n",
    "    human_message = HumanMessage(\n",
    "        content=raw_content\n",
    "    )\n",
    "\n",
    "    # 构建消息列表并进行模型调用\n",
    "    messages = [system_message, human_message]\n",
    "    ai_message = chat(messages)\n",
    "\n",
    "    return ai_message.content"
   ]
  },
  {
   "cell_type": "code",
   "execution_count": 27,
   "id": "9fbb1ac5-0f0d-4dd8-ae4b-39227a606bf2",
   "metadata": {},
   "outputs": [
    {
     "name": "stderr",
     "output_type": "stream",
     "text": [
      "/root/miniconda3/lib/python3.11/site-packages/langchain_core/_api/deprecation.py:189: LangChainDeprecationWarning: The function `__call__` was deprecated in LangChain 0.1.7 and will be removed in 0.2.0. Use invoke instead.\n",
      "  warn_deprecated(\n"
     ]
    },
    {
     "name": "stdout",
     "output_type": "stream",
     "text": [
      "Content: 蒙卦\n",
      "Summary: 在周易中，蒙卦是一个充满着启蒙和通达意义的卦象。它由下卦坎（水）和上卦艮（山）组成，形象为山下有险。这象征着初时迷惑不知方向，须忍耐待机而动，凡事多听取别人意见，则运可通。蒙卦代表着混乱无序的情况下，需要勇敢坚毅的行动来扭转局面，同时也需要接受严格教育，培养奋发图强的精神，务必脚踏实地，杜绝好高骛远。在事业、经商、求名、婚恋等方面，蒙卦都提示着需要基础教育的重要性，同时也需要耐心等待适当时机，并接受长辈的教诲和严酷的考验。\n"
     ]
    },
    {
     "name": "stderr",
     "output_type": "stream",
     "text": [
      "/root/miniconda3/lib/python3.11/site-packages/langchain_core/_api/deprecation.py:189: LangChainDeprecationWarning: The function `__call__` was deprecated in LangChain 0.1.7 and will be removed in 0.2.0. Use invoke instead.\n",
      "  warn_deprecated(\n"
     ]
    },
    {
     "name": "stdout",
     "output_type": "stream",
     "text": [
      "Content: 屯卦\n",
      "Summary: 在周易中，屯卦代表着大吉大利，它由下卦震（雷）上卦坎（水）组成。这一卦象象征着最初的困难和阻碍，但需要坚韧不拔的品性和果敢的行动才能取得吉祥。屯卦告诫着困境中需要勇往直前，小心翼翼，才可期待后续的顺利解决。\n",
      "\n",
      "根据《象辞》解释，屯卦的卦象是由上坎下震组成，坎象征云、震象征雷。这象征着云行于上，雷动于下，君子观此卦象，取法于云雷，以云的恩泽，雷的威严来治理国事。\n",
      "\n",
      "屯卦的解释中强调：身处困境时需要步步为营，有初难后解之象。事业上，积极进取、行动果断、勇往直前，灵活机动，可获得大的成功；同时需要他人相助。对于经商、求名、婚恋等方面，亦应坚忍不拔、积极追求，方可获得成功。然而，需要意识到困难状态下的需要得到贤德之人的帮助才能摆脱，以乐观主义精神处世，才能取得成就。\n"
     ]
    },
    {
     "name": "stderr",
     "output_type": "stream",
     "text": [
      "/root/miniconda3/lib/python3.11/site-packages/langchain_core/_api/deprecation.py:189: LangChainDeprecationWarning: The function `__call__` was deprecated in LangChain 0.1.7 and will be removed in 0.2.0. Use invoke instead.\n",
      "  warn_deprecated(\n"
     ]
    },
    {
     "name": "stdout",
     "output_type": "stream",
     "text": [
      "Content: 需卦\n",
      "Summary: \n"
     ]
    },
    {
     "name": "stderr",
     "output_type": "stream",
     "text": [
      "/root/miniconda3/lib/python3.11/site-packages/langchain_core/_api/deprecation.py:189: LangChainDeprecationWarning: The function `__call__` was deprecated in LangChain 0.1.7 and will be removed in 0.2.0. Use invoke instead.\n",
      "  warn_deprecated(\n"
     ]
    },
    {
     "name": "stdout",
     "output_type": "stream",
     "text": [
      "Content: 讼卦\n",
      "Summary: 讼卦是一卦象，由乾上坎下组成。乾代表天，坎代表水，这两者相违相異，造成了讼卦的卦象。在讼卦中，提示人们要杜绝争讼，谋事之初必须慎之又慎。讼卦虽然有利可图，但必须警惕戒惧，中间吉利，终将带来凶险。讼卦出现时，有利于会见贵族王公，但不利于涉水渡河。这表明事业起初顺利，有利可图，继而受挫，需警惕慎之又慎，不得固执已见。避免介入诉讼纠纷的争执之中，采取退让的态度，求得化解，安于正理，可避免意外之灾。在事业、经商、求名、婚恋和决策等方面，讼卦都提示人们要警惕争讼之灾，慎之又慎，以谋始，以杜绝争讼为意。\n"
     ]
    },
    {
     "name": "stderr",
     "output_type": "stream",
     "text": [
      "/root/miniconda3/lib/python3.11/site-packages/langchain_core/_api/deprecation.py:189: LangChainDeprecationWarning: The function `__call__` was deprecated in LangChain 0.1.7 and will be removed in 0.2.0. Use invoke instead.\n",
      "  warn_deprecated(\n"
     ]
    },
    {
     "name": "stdout",
     "output_type": "stream",
     "text": [
      "Content: 师卦\n",
      "Summary: 师卦是一个由坎卦（水）上卦坤卦（地）所组成的卦象，代表着军队总指挥的军情占卜，预示着没有灾祸。在这个卦象中，坤为地，坎为水，象征着地中有水，君子观此卦象则取法于大地容纳江河之象，用来比喻收容和滋养大众。根据《断易天机》解，师即兵众，只有选择德高望重的长者来统率军队，才能得到吉祥无咎。而根据北宋易学家邵雍解，得到此卦者会面临困难重重，需要包容别人，排除万难。师卦象征着养兵聚众，出师攻伐之象，但也暗示着困难重重，需要以正规行事，密切合作及严于律已，方能成功。在事业、经商、求名、婚恋和决策上都需要面对困难，但可通过灵活应对和坚定意志最终取得成功。\n"
     ]
    },
    {
     "name": "stderr",
     "output_type": "stream",
     "text": [
      "/root/miniconda3/lib/python3.11/site-packages/langchain_core/_api/deprecation.py:189: LangChainDeprecationWarning: The function `__call__` was deprecated in LangChain 0.1.7 and will be removed in 0.2.0. Use invoke instead.\n",
      "  warn_deprecated(\n"
     ]
    },
    {
     "name": "stdout",
     "output_type": "stream",
     "text": [
      "Content: 比卦\n",
      "Summary: 在周易中，比卦是一个吉利的卦象。它代表着同时再次卜筮，仍然大吉大利，预示长期的吉祥而没有灾祸。然而，也暗示着不愿臣服的邦国迟迟不来者将会有难。\n",
      "\n",
      "比卦的核心哲学是：相亲相依，长期的亲密和宽容将带来吉祥。它反映了相亲相辅、亲密无间、和乐相处的道理。坎上坤下，水附大地，地纳河海，相互依赖，亲密无间，象征着和乐相处的意境。\n",
      "\n",
      "在运势、事业、经商、求名、婚恋等方面，比卦都预示着顺利成功，得到他人的帮助和辅佐。需要待人宽厚、正直、诚实、信任，在与他人的交往中讲究道德，遵守信义。同时，也需要警惕选择朋友，避免与品行不端的人结交，而应与高明之人友好往来，并获得其帮助。\n"
     ]
    },
    {
     "name": "stderr",
     "output_type": "stream",
     "text": [
      "/root/miniconda3/lib/python3.11/site-packages/langchain_core/_api/deprecation.py:189: LangChainDeprecationWarning: The function `__call__` was deprecated in LangChain 0.1.7 and will be removed in 0.2.0. Use invoke instead.\n",
      "  warn_deprecated(\n"
     ]
    },
    {
     "name": "stdout",
     "output_type": "stream",
     "text": [
      "Content: 坤卦\n",
      "Summary: 坤卦是一个大吉大利的卦象，代表着柔顺、顺应天道、承载万物、伸展无穷的特性。坤卦的核心哲学是先迷失而后得到正确方向，因此在旅行中先迷后得，财物方面宜往西南。总体而言，坤卦代表安定、顺利和安宁。在事业上，需要以静制动，不宜急进，重视内心修养，容忍负重，以诚信和大度为原则。在经商方面，应稳健经营，遇挫折要总结经验，谨慎行事。在婚恋方面，适宜以柔克刚，以温柔待人，可得美好姻缘。在决策上，需要具备忠厚、温和的性格，待人真诚，可得到他人的帮助，但也要小心提防小人的伤害。\n"
     ]
    },
    {
     "name": "stderr",
     "output_type": "stream",
     "text": [
      "/root/miniconda3/lib/python3.11/site-packages/langchain_core/_api/deprecation.py:189: LangChainDeprecationWarning: The function `__call__` was deprecated in LangChain 0.1.7 and will be removed in 0.2.0. Use invoke instead.\n",
      "  warn_deprecated(\n"
     ]
    },
    {
     "name": "stdout",
     "output_type": "stream",
     "text": [
      "Content: 乾卦\n",
      "Summary: 乾卦是《易经》六十四卦之首，由六个阳爻组成，象征天，代表刚健、强健、大通的意义。在《象辞》中指出，天行健，君子应当以自强不息为行事准则。乾卦预示着吉祥如意，但需要行正道才能永远亨通。古代解卦家如邵雍和傅佩荣都认为得乾卦者宜自强不息，名利双收，但需谨慎过于刚直之嫌。在传统解卦中，乾卦预示着事业兴盛强健，但也提示了盛极必衰的道理，教诲人们谨慎小心，保持冷静谦和的态度，以保证事业成功。在经商、求名、婚恋等方面也提出了相应的建议，强调应修德养德，保持正直与公允，自强不息，才能克服困难，取得成功。\n"
     ]
    }
   ],
   "source": [
    "# 执行主函数\n",
    "main()"
   ]
  },
  {
   "cell_type": "code",
   "execution_count": null,
   "id": "12e7bed4-7bc2-4e5f-83f1-e87f4ae679ab",
   "metadata": {},
   "outputs": [],
   "source": []
  },
  {
   "cell_type": "code",
   "execution_count": null,
   "id": "afb64b98-cb37-4175-b591-358a5fd0abbc",
   "metadata": {},
   "outputs": [],
   "source": []
  },
  {
   "cell_type": "code",
   "execution_count": null,
   "id": "8b7dbb5c-37d6-45e1-911b-73d6971df914",
   "metadata": {},
   "outputs": [],
   "source": []
  },
  {
   "cell_type": "code",
   "execution_count": null,
   "id": "caad2a63-377f-4d38-9053-4f3d00355e5c",
   "metadata": {},
   "outputs": [],
   "source": []
  }
 ],
 "metadata": {
  "kernelspec": {
   "display_name": "Python 3 (ipykernel)",
   "language": "python",
   "name": "python3"
  },
  "language_info": {
   "codemirror_mode": {
    "name": "ipython",
    "version": 3
   },
   "file_extension": ".py",
   "mimetype": "text/x-python",
   "name": "python",
   "nbconvert_exporter": "python",
   "pygments_lexer": "ipython3",
   "version": "3.11.8"
  }
 },
 "nbformat": 4,
 "nbformat_minor": 5
}
