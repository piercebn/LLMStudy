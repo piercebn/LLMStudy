{
 "cells": [
  {
   "cell_type": "markdown",
   "id": "74476757-55a4-487a-a9a9-fda2addcf136",
   "metadata": {},
   "source": [
    "# HF Transformers 核心模块学习：Pipelines\n",
    "\n",
    "**Pipelines**（管道）是使用模型进行推理的一种简单易上手的方式。\n",
    "\n",
    "这些管道是抽象了 Transformers 库中大部分复杂代码的对象，提供了一个专门用于多种任务的简单API，包括**命名实体识别、掩码语言建模、情感分析、特征提取和问答**等。\n",
    "\n",
    "\n",
    "| Modality                    | Task                         | Description                                                | Pipeline API                                  |\n",
    "| --------------------------- | ---------------------------- | ---------------------------------------------------------- | --------------------------------------------- |\n",
    "| Audio                       | Audio classification         | 为音频文件分配一个标签                                     | pipeline(task=“audio-classification”)         |\n",
    "|                             | Automatic speech recognition | 将音频文件中的语音提取为文本                               | pipeline(task=“automatic-speech-recognition”) |\n",
    "| Computer vision             | Image classification         | 为图像分配一个标签                                         | pipeline(task=“image-classification”)         |\n",
    "|                             | Object detection             | 预测图像中目标对象的边界框和类别                           | pipeline(task=“object-detection”)             |\n",
    "|                             | Image segmentation           | 为图像中每个独立的像素分配标签（支持语义、全景和实例分割） | pipeline(task=“image-segmentation”)           |\n",
    "| Natural language processing | Text classification          | 为给定的文本序列分配一个标签                               | pipeline(task=“sentiment-analysis”)           |\n",
    "|                             | Token classification         | 为序列里的每个 token 分配一个标签（人, 组织, 地址等等）    | pipeline(task=“ner”)                          |\n",
    "|                             | Question answering           | 通过给定的上下文和问题, 在文本中提取答案                   | pipeline(task=“question-answering”)           |\n",
    "|                             | Summarization                | 为文本序列或文档生成总结                                   | pipeline(task=“summarization”)                |\n",
    "|                             | Translation                  | 将文本从一种语言翻译为另一种语言                           | pipeline(task=“translation”)                  |\n",
    "| Multimodal                  | Document question answering  | 根据给定的文档和问题回答一个关于该文档的问题。             | pipeline(task=“document-question-answering”)  |\n",
    "|                             | Visual Question Answering    | 给定一个图像和一个问题，正确地回答有关图像的问题           | pipeline(task=“vqa”)                          |\n",
    "\n",
    "\n",
    "Pipelines 已支持的完整任务列表：https://huggingface.co/docs/transformers/task_summary\n"
   ]
  },
  {
   "cell_type": "markdown",
   "id": "7e908e8a-f39a-4d73-897f-07a738e6fd3a",
   "metadata": {},
   "source": [
    "## Pipeline API\n",
    "\n",
    "**Pipeline API** 是对所有其他可用管道的包装。它可以像任何其他管道一样实例化，并且降低AI推理的学习和使用成本。-\n",
    "\n",
    "- NLP(自然语言处理)\n",
    "    - Text Classification(文本分类任务)：将一个文本序列（可以是句子级别、段落或者整篇文章）标记为预定义的类别集合之一。\n",
    "        - 情感分析：根据某种极性（如积极或消极）对文本进行标记，以在政治、金融和市场等领域支持决策制定。\n",
    "        - 内容分类：根据某个主题对文本进行标记，以帮助组织和过滤新闻和社交媒体信息流中的信息（天气、体育、金融等）。\n",
    "    - Token Classification(Token分类任务)：将每个token分配一个来自预定义类别集的标签。\n",
    "        - 命名实体识别（NER）：根据实体类别（如组织、人员、位置或日期）对token进行标记。NER在生物医学设置中特别受欢迎，可以标记基因、蛋白质和药物名称。\n",
    "        - 词性标注（POS）：根据其词性（如名词、动词或形容词）对标记进行标记。POS对于帮助翻译系统了解两个相同的单词如何在语法上不同很有用（作为名词的银行与作为动词的银行）。\n",
    "    - Question Answering(问答任务)：另一个token-level的任务，返回一个问题的答案，有时带有上下文（开放领域），有时不带上下文（封闭领域）。每当我们向虚拟助手提出问题时，例如询问一家餐厅是否营业，就会发生这种情况。它还可以提供客户或技术支持，并帮助搜索引擎检索您要求的相关信息。\n",
    "        - 提取式：给定一个问题和一些上下文，模型必须从上下文中提取出一段文字作为答案\n",
    "        - 生成式：给定一个问题和一些上下文，答案是根据上下文生成的\n",
    "    - Summarization(文本摘要）：从较长的文本中创建一个较短的版本，同时尽可能保留原始文档的大部分含义。摘要是一个序列到序列的任务；它输出比输入更短的文本序列。有许多长篇文档可以进行摘要，以帮助读者快速了解主要要点。法案、法律和财务文件、专利和科学论文等文档可以摘要，以节省读者的时间并作为阅读辅助工具。\n",
    "        - 提取式：从原始文本中识别和提取最重要的句子\n",
    "        - 生成式：从原始文本中生成目标摘要（可能包括输入文件中没有的新单词）\n",
    "- Audio 音频处理任务\n",
    "    - Audio classification(音频分类)：是一项将音频数据从预定义的类别集合中进行标记的任务。\n",
    "    - Automatic speech recognition（自动语音识别）：将语音转录为文本。\n",
    "- Computer Vision 计算机视觉\n",
    "    - Image Classificaiton(图像分类)：将整个图像从预定义的类别集合中进行标记。 \n",
    "    - Object Detection(目标检测):与图像分类不同，目标检测在图像中识别多个对象以及这些对象在图像中的位置（由边界框定义）。"
   ]
  },
  {
   "cell_type": "markdown",
   "id": "3adab2d8-5b56-40da-a7d8-df1e53825d15",
   "metadata": {},
   "source": [
    "## 对比不同模型在相同任务上的性能表现"
   ]
  },
  {
   "cell_type": "markdown",
   "id": "8d204fb9-b4c8-4150-a2ef-e545ed4a9fcb",
   "metadata": {},
   "source": [
    "### Text Classification(文本分类任务)"
   ]
  },
  {
   "cell_type": "code",
   "execution_count": 11,
   "id": "c24f790c-e3cf-4bc5-aabc-5381a79c03fb",
   "metadata": {},
   "outputs": [
    {
     "data": {
      "text/plain": [
       "[[{'label': 'negative', 'score': 0.8286268711090088}]]"
      ]
     },
     "execution_count": 11,
     "metadata": {},
     "output_type": "execute_result"
    }
   ],
   "source": [
    "# 中文和英文情感分类对比\n",
    "from transformers import pipeline\n",
    "sentiment_task = pipeline(\n",
    "    model=\"lxyuan/distilbert-base-multilingual-cased-sentiments-student\", \n",
    "    top_k=1\n",
    ")\n",
    "sentiment_task(\"今儿北京可真冷啊!\")"
   ]
  },
  {
   "cell_type": "code",
   "execution_count": 12,
   "id": "e42be47a-26c2-4461-a9bf-03787123ade3",
   "metadata": {},
   "outputs": [
    {
     "data": {
      "text/plain": [
       "[[{'label': 'negative', 'score': 0.7933650612831116}]]"
      ]
     },
     "execution_count": 12,
     "metadata": {},
     "output_type": "execute_result"
    }
   ],
   "source": [
    "sentiment_task(\"Today Beijing is really cold.\")"
   ]
  },
  {
   "cell_type": "code",
   "execution_count": 13,
   "id": "27a7daaa-eef9-4bf1-b4e4-81269555450f",
   "metadata": {},
   "outputs": [
    {
     "data": {
      "text/plain": [
       "[[{'label': 'positive', 'score': 0.953176736831665}]]"
      ]
     },
     "execution_count": 13,
     "metadata": {},
     "output_type": "execute_result"
    }
   ],
   "source": [
    "sentiment_task(\"你学东西真的好快，理论课一讲就明白了!\")"
   ]
  },
  {
   "cell_type": "code",
   "execution_count": 14,
   "id": "03bbf441-3368-4f37-84ae-10950a63c89c",
   "metadata": {},
   "outputs": [
    {
     "data": {
      "text/plain": [
       "[[{'label': 'positive', 'score': 0.7639099359512329}]]"
      ]
     },
     "execution_count": 14,
     "metadata": {},
     "output_type": "execute_result"
    }
   ],
   "source": [
    "sentiment_task(\"You learn things really quickly. You understand the theory class as soon as it is taught.\")"
   ]
  },
  {
   "cell_type": "markdown",
   "id": "dff79f94-6d15-47bc-9a0b-a594f5014ae9",
   "metadata": {},
   "source": [
    "### Token Classification(Token分类任务)"
   ]
  },
  {
   "cell_type": "code",
   "execution_count": 19,
   "id": "57f059b4-f495-4fc1-a2a5-077a287fff74",
   "metadata": {},
   "outputs": [
    {
     "name": "stderr",
     "output_type": "stream",
     "text": [
      "Some weights of the model checkpoint at xlm-roberta-large-finetuned-conll03-english were not used when initializing XLMRobertaForTokenClassification: ['roberta.pooler.dense.bias', 'roberta.pooler.dense.weight']\n",
      "- This IS expected if you are initializing XLMRobertaForTokenClassification from the checkpoint of a model trained on another task or with another architecture (e.g. initializing a BertForSequenceClassification model from a BertForPreTraining model).\n",
      "- This IS NOT expected if you are initializing XLMRobertaForTokenClassification from the checkpoint of a model that you expect to be exactly identical (initializing a BertForSequenceClassification model from a BertForSequenceClassification model).\n"
     ]
    },
    {
     "data": {
      "text/plain": [
       "[{'entity': 'I-LOC',\n",
       "  'score': 0.9879116,\n",
       "  'index': 2,\n",
       "  'word': '中国的',\n",
       "  'start': 0,\n",
       "  'end': 3},\n",
       " {'entity': 'I-LOC',\n",
       "  'score': 0.99999654,\n",
       "  'index': 5,\n",
       "  'word': '北京',\n",
       "  'start': 6,\n",
       "  'end': 8},\n",
       " {'entity': 'I-LOC',\n",
       "  'score': 0.9999956,\n",
       "  'index': 8,\n",
       "  'word': '北京',\n",
       "  'start': 10,\n",
       "  'end': 12},\n",
       " {'entity': 'I-LOC',\n",
       "  'score': 0.999691,\n",
       "  'index': 11,\n",
       "  'word': '天',\n",
       "  'start': 15,\n",
       "  'end': 16},\n",
       " {'entity': 'I-LOC',\n",
       "  'score': 0.99995625,\n",
       "  'index': 12,\n",
       "  'word': '安',\n",
       "  'start': 16,\n",
       "  'end': 17},\n",
       " {'entity': 'I-LOC',\n",
       "  'score': 0.9998363,\n",
       "  'index': 13,\n",
       "  'word': '门',\n",
       "  'start': 17,\n",
       "  'end': 18},\n",
       " {'entity': 'I-ORG',\n",
       "  'score': 0.9885372,\n",
       "  'index': 22,\n",
       "  'word': '百度',\n",
       "  'start': 30,\n",
       "  'end': 32}]"
      ]
     },
     "execution_count": 19,
     "metadata": {},
     "output_type": "execute_result"
    }
   ],
   "source": [
    "# 中文Token分类\n",
    "from transformers import AutoTokenizer,AutoModelForTokenClassification\n",
    "from transformers import pipeline\n",
    "tokenizer = AutoTokenizer.from_pretrained(\"xlm-roberta-large-finetuned-conll03-english\")\n",
    "model = AutoModelForTokenClassification.from_pretrained(\"xlm-roberta-large-finetuned-conll03-english\")\n",
    "classifier = pipeline(\"ner\", model=model, tokenizer=tokenizer)\n",
    "classifier(\"中国的首都是北京，去北京可以到天安门广场上看升国旗，可以通过百度的搜索更多详细信息。\")"
   ]
  },
  {
   "cell_type": "code",
   "execution_count": 20,
   "id": "f3854755-456b-4eff-8fb6-a4bab1a50fb2",
   "metadata": {},
   "outputs": [
    {
     "data": {
      "text/plain": [
       "[{'entity_group': 'LOC',\n",
       "  'score': 0.9879116,\n",
       "  'word': '中国的',\n",
       "  'start': 0,\n",
       "  'end': 3},\n",
       " {'entity_group': 'LOC',\n",
       "  'score': 0.99999654,\n",
       "  'word': '北京',\n",
       "  'start': 6,\n",
       "  'end': 8},\n",
       " {'entity_group': 'LOC',\n",
       "  'score': 0.9999956,\n",
       "  'word': '北京',\n",
       "  'start': 10,\n",
       "  'end': 12},\n",
       " {'entity_group': 'LOC',\n",
       "  'score': 0.99982786,\n",
       "  'word': '天安门',\n",
       "  'start': 15,\n",
       "  'end': 18},\n",
       " {'entity_group': 'ORG',\n",
       "  'score': 0.9885372,\n",
       "  'word': '百度',\n",
       "  'start': 30,\n",
       "  'end': 32}]"
      ]
     },
     "execution_count": 20,
     "metadata": {},
     "output_type": "execute_result"
    }
   ],
   "source": [
    "# 合并实体后，天安门可以整体识别\n",
    "classifier = pipeline(\"ner\", model=model, tokenizer=tokenizer, grouped_entities=True)\n",
    "classifier(\"中国的首都是北京，去北京可以到天安门广场上看升国旗，可以通过百度的搜索更多详细信息。\")"
   ]
  },
  {
   "cell_type": "markdown",
   "id": "6e4d8718-d1fc-4b1b-8eb6-999ef5e89617",
   "metadata": {},
   "source": [
    "### Question Answering(问答任务)"
   ]
  },
  {
   "cell_type": "code",
   "execution_count": 21,
   "id": "5db4e4c3-0365-4211-84f7-49cf7eb58128",
   "metadata": {},
   "outputs": [
    {
     "data": {
      "application/vnd.jupyter.widget-view+json": {
       "model_id": "c7c88a7abda04686b2bd141416d94b5d",
       "version_major": 2,
       "version_minor": 0
      },
      "text/plain": [
       "config.json:   0%|          | 0.00/452 [00:00<?, ?B/s]"
      ]
     },
     "metadata": {},
     "output_type": "display_data"
    },
    {
     "data": {
      "application/vnd.jupyter.widget-view+json": {
       "model_id": "b30179a282624564a64efc56d73fabb7",
       "version_major": 2,
       "version_minor": 0
      },
      "text/plain": [
       "pytorch_model.bin:   0%|          | 0.00/407M [00:00<?, ?B/s]"
      ]
     },
     "metadata": {},
     "output_type": "display_data"
    },
    {
     "data": {
      "application/vnd.jupyter.widget-view+json": {
       "model_id": "83a7c1039a8f458186718317f49b37fd",
       "version_major": 2,
       "version_minor": 0
      },
      "text/plain": [
       "tokenizer_config.json:   0%|          | 0.00/216 [00:00<?, ?B/s]"
      ]
     },
     "metadata": {},
     "output_type": "display_data"
    },
    {
     "data": {
      "application/vnd.jupyter.widget-view+json": {
       "model_id": "9c368740c51848f083254771c5cfb63a",
       "version_major": 2,
       "version_minor": 0
      },
      "text/plain": [
       "vocab.txt:   0%|          | 0.00/110k [00:00<?, ?B/s]"
      ]
     },
     "metadata": {},
     "output_type": "display_data"
    },
    {
     "data": {
      "application/vnd.jupyter.widget-view+json": {
       "model_id": "8bd795f2f8514add9138b9971986238c",
       "version_major": 2,
       "version_minor": 0
      },
      "text/plain": [
       "special_tokens_map.json:   0%|          | 0.00/112 [00:00<?, ?B/s]"
      ]
     },
     "metadata": {},
     "output_type": "display_data"
    },
    {
     "data": {
      "text/plain": [
       "{'score': 0.2946624755859375, 'start': 7, 'end': 15, 'answer': '每天早上6点左右'}"
      ]
     },
     "execution_count": 21,
     "metadata": {},
     "output_type": "execute_result"
    }
   ],
   "source": [
    "# 中文问答，提取式\n",
    "from transformers import AutoModelForQuestionAnswering,AutoTokenizer,pipeline\n",
    "model = AutoModelForQuestionAnswering.from_pretrained('uer/roberta-base-chinese-extractive-qa')\n",
    "tokenizer = AutoTokenizer.from_pretrained('uer/roberta-base-chinese-extractive-qa')\n",
    "QA = pipeline('question-answering', model=model, tokenizer=tokenizer)\n",
    "QA_input = {'question': \"什么时候去天安门广场可以看到升国旗？\",'context': \"北京天安门广场每天早上6点左右会有升国旗仪式。\"}\n",
    "QA(QA_input)"
   ]
  },
  {
   "cell_type": "markdown",
   "id": "7c6f4d9a-20e7-4725-a635-1a459b6aa211",
   "metadata": {},
   "source": [
    "### Summarization(文本摘要）"
   ]
  },
  {
   "cell_type": "code",
   "execution_count": 34,
   "id": "ba6ffba0-c78a-4009-881c-91dc2cda38c4",
   "metadata": {},
   "outputs": [
    {
     "name": "stdout",
     "output_type": "stream",
     "text": [
      "<extra_id_59> 中国小米汽车su7在续航方面,搭载来自宁德时代的三元锂电池组。\n"
     ]
    }
   ],
   "source": [
    "# 中文摘要，试了几个效果不理想\n",
    "import re\n",
    "from transformers import AutoTokenizer, AutoModelForSeq2SeqLM\n",
    "\n",
    "WHITESPACE_HANDLER = lambda k: re.sub('\\s+', ' ', re.sub('\\n+', ' ', k.strip()))\n",
    "\n",
    "article_text = \"\"\"小米汽车su7在续航方面，根据不同配置，分别搭载来自襄阳弗迪的磷酸铁锂电池组（比亚迪），以及来自宁德时代的三元锂电池组，电池容量分别为73.6千瓦时、94.3千瓦时和101千瓦时，其中73.6千瓦时对应的纯电续航里程700km，94.3千瓦时对应的纯电续航为830km，101千瓦时对应的纯电续航里程分别为800km（均为CLTC工况）。另外，小米SU7搭载了800V高压平台，配合宁德时代的麒麟电池，可以做到充电5分钟，220km续航，充电15分钟，510km续航的表现。\"\"\"\n",
    "\n",
    "model_name = \"csebuetnlp/mT5_m2m_crossSum_enhanced\"\n",
    "tokenizer = AutoTokenizer.from_pretrained(model_name, use_fast=False)\n",
    "model = AutoModelForSeq2SeqLM.from_pretrained(model_name)\n",
    "\n",
    "get_lang_id = lambda lang: tokenizer._convert_token_to_id(\n",
    "    model.config.task_specific_params[\"langid_map\"][lang][1]\n",
    ") \n",
    "\n",
    "target_lang = \"chinese_simplified\" # for a list of available language names see below\n",
    "\n",
    "input_ids = tokenizer(\n",
    "    [WHITESPACE_HANDLER(article_text)],\n",
    "    return_tensors=\"pt\",\n",
    "    padding=\"max_length\",\n",
    "    truncation=True,\n",
    "    max_length=512\n",
    ")[\"input_ids\"]\n",
    "\n",
    "output_ids = model.generate(\n",
    "    input_ids=input_ids,\n",
    "    decoder_start_token_id=get_lang_id(target_lang),\n",
    "    max_length=84,\n",
    "    no_repeat_ngram_size=2,\n",
    "    num_beams=4,\n",
    ")[0]\n",
    "\n",
    "summary = tokenizer.decode(\n",
    "    output_ids,\n",
    "    skip_special_tokens=True,\n",
    "    clean_up_tokenization_spaces=False\n",
    ")\n",
    "\n",
    "print(summary)\n"
   ]
  },
  {
   "cell_type": "code",
   "execution_count": null,
   "id": "6d4aa5a3-a482-4b72-8937-a028318674d1",
   "metadata": {},
   "outputs": [],
   "source": []
  }
 ],
 "metadata": {
  "kernelspec": {
   "display_name": "Python 3 (ipykernel)",
   "language": "python",
   "name": "python3"
  },
  "language_info": {
   "codemirror_mode": {
    "name": "ipython",
    "version": 3
   },
   "file_extension": ".py",
   "mimetype": "text/x-python",
   "name": "python",
   "nbconvert_exporter": "python",
   "pygments_lexer": "ipython3",
   "version": "3.11.8"
  }
 },
 "nbformat": 4,
 "nbformat_minor": 5
}
