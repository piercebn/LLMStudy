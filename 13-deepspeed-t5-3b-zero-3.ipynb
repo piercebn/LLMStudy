{
 "cells": [
  {
   "cell_type": "markdown",
   "id": "59f40405-5c8c-4775-ad6b-91f517815f0b",
   "metadata": {},
   "source": [
    "# 目标\n",
    "使用DeepSpeed调整ZeRO-3配置文件支持T5-3B模型训练"
   ]
  },
  {
   "cell_type": "markdown",
   "id": "c8944213-831d-4da0-af2a-3d65f87933d7",
   "metadata": {},
   "source": [
    "## 训练命令"
   ]
  },
  {
   "cell_type": "code",
   "execution_count": null,
   "id": "2bc80150-d892-4f74-9251-e4096d9b624b",
   "metadata": {},
   "outputs": [],
   "source": [
    "# DeepSpeed ZeRO-3 模式单 GPU 训练翻译模型（T5-Large）\n",
    "deepspeed --num_gpus=1 translation/run_translation.py \\\n",
    "--deepspeed config/ds_config_zero3.json \\\n",
    "--model_name_or_path t5-3b --per_device_train_batch_size 1 \\\n",
    "--output_dir output_dir --overwrite_output_dir --fp16 \\\n",
    "--do_train --max_train_samples 500 --num_train_epochs 1 \\\n",
    "--dataset_name wmt16 --dataset_config \"ro-en\" \\\n",
    "--source_lang en --target_lang ro"
   ]
  },
  {
   "cell_type": "markdown",
   "id": "8e993e89-30c1-48e2-b412-4fcf4790f711",
   "metadata": {},
   "source": [
    "## 参数配置调整\n",
    "### 调整1\n",
    "将stage3_max_live_parameters参数调大未1e10\n",
    "\n",
    "### 调整2\n",
    "去除offload_param参数配置,在offload_optimizer中增加ratio参数配置\n"
   ]
  },
  {
   "cell_type": "markdown",
   "id": "878452a1-5b9f-4499-93a7-2fdf478545fa",
   "metadata": {},
   "source": [
    "### 调整后的参数如下"
   ]
  },
  {
   "cell_type": "code",
   "execution_count": 4,
   "id": "7ca14060-c8a3-4f0b-a6ed-2bf506d901e4",
   "metadata": {},
   "outputs": [
    {
     "name": "stdout",
     "output_type": "stream",
     "text": [
      "{\n",
      "    \"fp16\": {\n",
      "        \"enabled\": \"auto\",\n",
      "        \"loss_scale\": 0,\n",
      "        \"loss_scale_window\": 1000,\n",
      "        \"initial_scale_power\": 16,\n",
      "        \"hysteresis\": 2,\n",
      "        \"min_loss_scale\": 1\n",
      "    },\n",
      "    \"bf16\": {\n",
      "        \"enabled\": \"auto\"\n",
      "    },\n",
      "    \"optimizer\": {\n",
      "        \"type\": \"AdamW\",\n",
      "        \"params\": {\n",
      "            \"lr\": \"auto\",\n",
      "            \"betas\": \"auto\",\n",
      "            \"eps\": \"auto\",\n",
      "            \"weight_decay\": \"auto\"\n",
      "        }\n",
      "    },\n",
      "    \"scheduler\": {\n",
      "        \"type\": \"WarmupLR\",\n",
      "        \"params\": {\n",
      "            \"warmup_min_lr\": \"auto\",\n",
      "            \"warmup_max_lr\": \"auto\",\n",
      "            \"warmup_num_steps\": \"auto\"\n",
      "        }\n",
      "    },\n",
      "    \"zero_optimization\": {\n",
      "        \"stage\": 3,\n",
      "        \"offload_optimizer\": {\n",
      "            \"device\": \"cpu\",\n",
      "            \"pin_memory\": true,\n",
      "            \"ratio\": 0.9\n",
      "        },\n",
      "        \"overlap_comm\": true,\n",
      "        \"contiguous_gradients\": true,\n",
      "        \"sub_group_size\": 1000000000.0,\n",
      "        \"reduce_bucket_size\": \"auto\",\n",
      "        \"stage3_prefetch_bucket_size\": \"auto\",\n",
      "        \"stage3_param_persistence_threshold\": \"auto\",\n",
      "        \"stage3_max_live_parameters\": 1000000000.0,\n",
      "        \"stage3_max_reuse_distance\": 1000000000.0,\n",
      "        \"stage3_gather_16bit_weights_on_model_save\": true\n",
      "    },\n",
      "    \"gradient_accumulation_steps\": \"auto\",\n",
      "    \"gradient_clipping\": \"auto\",\n",
      "    \"steps_per_print\": 20,\n",
      "    \"train_batch_size\": \"auto\",\n",
      "    \"train_micro_batch_size_per_gpu\": \"auto\",\n",
      "    \"wall_clock_breakdown\": false\n",
      "}\n"
     ]
    }
   ],
   "source": [
    "import json\n",
    "\n",
    "# 打开 JSON 文件\n",
    "with open('./config/ds_config_zero3.json', 'r') as file:\n",
    "    # 读取文件内容并解析为字典\n",
    "    data = json.load(file)\n",
    "\n",
    "# 打印字典内容\n",
    "print(json.dumps(data, indent=4))"
   ]
  },
  {
   "cell_type": "markdown",
   "id": "466bce6b-1736-417b-8710-c8b7ba47144d",
   "metadata": {},
   "source": [
    "## 执行结果\n",
    "在开始训练后，执行失败，上述参数调整后，在尽可能大的使用GPU显存的情况下，剩余部分使用CPU内存，CPU内存配置为32G+64G虚拟内存，\n",
    "当CPU虚拟内存使用到11G左右时，由于硬盘的读写速度远小于内存，系统处理性能会显著下降，系统会变得非常缓慢直至无法响应，然后任务停止无法继续执行，执行截图如下\n",
    "![](translation/deepspeedtrain.png)\n",
    "\n",
    "目前还没有找到其他方法可以解决问题，希望老师进一步指导！"
   ]
  }
 ],
 "metadata": {
  "kernelspec": {
   "display_name": "Python 3 (ipykernel)",
   "language": "python",
   "name": "python3"
  },
  "language_info": {
   "codemirror_mode": {
    "name": "ipython",
    "version": 3
   },
   "file_extension": ".py",
   "mimetype": "text/x-python",
   "name": "python",
   "nbconvert_exporter": "python",
   "pygments_lexer": "ipython3",
   "version": "3.11.8"
  }
 },
 "nbformat": 4,
 "nbformat_minor": 5
}
